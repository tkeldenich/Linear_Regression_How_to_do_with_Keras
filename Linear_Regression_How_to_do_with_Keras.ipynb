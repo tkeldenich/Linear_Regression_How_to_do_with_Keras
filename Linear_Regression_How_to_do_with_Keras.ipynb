{
  "nbformat": 4,
  "nbformat_minor": 0,
  "metadata": {
    "colab": {
      "provenance": [],
      "authorship_tag": "ABX9TyOKnsH50vArD3OgOhnB97E7",
      "include_colab_link": true
    },
    "kernelspec": {
      "name": "python3",
      "display_name": "Python 3"
    },
    "language_info": {
      "name": "python"
    }
  },
  "cells": [
    {
      "cell_type": "markdown",
      "metadata": {
        "id": "view-in-github",
        "colab_type": "text"
      },
      "source": [
        "<a href=\"https://colab.research.google.com/github/tkeldenich/Linear_Regression_How_to_do_with_Keras/blob/main/Linear_Regression_How_to_do_with_Keras.ipynb\" target=\"_parent\"><img src=\"https://colab.research.google.com/assets/colab-badge.svg\" alt=\"Open In Colab\"/></a>"
      ]
    },
    {
      "cell_type": "markdown",
      "source": [
        "# **Linear Regression How to do with Keras – Best Tutorial**"
      ],
      "metadata": {
        "id": "vWJWlHVqMDiJ"
      }
    },
    {
      "cell_type": "markdown",
      "source": [
        "*   [English Article](https://inside-machinelearning.com/en/how-to-do-linear-regression-with-keras/)\n",
        "*   [French Article](https://inside-machinelearning.com/comment-faire-une-regression-lineaire-avec-keras/)"
      ],
      "metadata": {
        "id": "nVP60Yn3MW16"
      }
    },
    {
      "cell_type": "markdown",
      "source": [
        "In this article we see how to do the basis of Machine Learning: **Linear Regression !** For this we will use the Keras library.\n",
        "\n",
        "**But first, what is a linear regression?**\n",
        "\n",
        "Linear regression is an approach to solve a problem.\n",
        "\n",
        "Let’s take an example.\n",
        "\n",
        "We have gathered data on a whole population:\n",
        "\n",
        "* **the age** of each individual\n",
        "* their **health** insurance charges\n",
        "\n",
        "If we display this data on a graph, here is the result:"
      ],
      "metadata": {
        "id": "Jy164Bl6Mln8"
      }
    },
    {
      "cell_type": "markdown",
      "source": [
        "![nuageDePoint.png](data:image/png;base64,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)"
      ],
      "metadata": {
        "id": "G_o-1u51MwUo"
      }
    },
    {
      "cell_type": "markdown",
      "source": [
        "This is called a **points cloud.**\n",
        "\n",
        "Here, the goal of linear regression is to find a mathematical relationship between age and insurance charges for that population.\n",
        "\n",
        "An example of a relationship would be: **as an individual’s age increases, so do their health insurance charges.**\n",
        "\n",
        "\n",
        "This relationship must be **linear**, i.e. it must be explained as an equation y = ax+b.\n",
        "\n",
        "x being the age of the individual and y being the insurance charges.\n",
        "\n",
        "Here is an example of a linear regression (orange line):"
      ],
      "metadata": {
        "id": "um0lZFu9M5wW"
      }
    },
    {
      "cell_type": "markdown",
      "source": [
        "![regLin.png](data:image/png;base64,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)"
      ],
      "metadata": {
        "id": "hy-G2uMiM5zJ"
      }
    },
    {
      "cell_type": "markdown",
      "source": [
        "The above equation is : *y = 280x-4040*\n",
        "\n",
        "If an individual is 20 years old, his expenses are equal to 280*20-4040 = 1560\n",
        "\n",
        "**However, this does not work for all individuals.**\n",
        "\n",
        "You can see on the graph that the orange line (linear regression) does NOT pass through all the points.\n",
        "\n",
        "**The linear regression does not give a perfect solution for the problem.** It does not predict all the points.\n",
        "\n",
        "**BUT, it gives an optimal solution.**\n",
        "\n",
        "Optimal because we can predict **most of the points** with this linear regression.\n",
        "\n",
        "This makes it a fast solution and adapted to many problems.\n",
        "\n",
        "**Let’s get to Deep Learning with Keras !**"
      ],
      "metadata": {
        "id": "9BlKl31qNDmt"
      }
    },
    {
      "cell_type": "markdown",
      "source": [
        "## **Multiple Linear Regression**"
      ],
      "metadata": {
        "id": "ycPRRwuMNP0F"
      }
    },
    {
      "cell_type": "markdown",
      "source": [
        "In a classical linear regression, we take **one data** (age) to explain **another** (insurance charges).\n",
        "\n",
        "But in Deep Learning, the operation is often more challenging.\n",
        "\n",
        "\n",
        "In our case we’ll have to take **multiple data** to explain **another one.**\n",
        "\n",
        "Let’s start by importing the dataset:"
      ],
      "metadata": {
        "id": "N3M49mfeNP2U"
      }
    },
    {
      "cell_type": "code",
      "source": [
        "!git clone https://github.com/tkeldenich/datasets.git"
      ],
      "metadata": {
        "colab": {
          "base_uri": "https://localhost:8080/"
        },
        "id": "nHT4swRLJF5g",
        "outputId": "d462af39-b470-4605-fd0c-3ea78d1a3874"
      },
      "execution_count": null,
      "outputs": [
        {
          "output_type": "stream",
          "name": "stdout",
          "text": [
            "Cloning into 'datasets'...\n",
            "remote: Enumerating objects: 18, done.\u001b[K\n",
            "remote: Counting objects: 100% (18/18), done.\u001b[K\n",
            "remote: Compressing objects: 100% (18/18), done.\u001b[K\n",
            "remote: Total 18 (delta 4), reused 0 (delta 0), pack-reused 0\u001b[K\n",
            "Unpacking objects: 100% (18/18), done.\n"
          ]
        }
      ]
    },
    {
      "cell_type": "markdown",
      "source": [
        "We can read it with the Pandas library:"
      ],
      "metadata": {
        "id": "dJY-5Z6pNYlv"
      }
    },
    {
      "cell_type": "code",
      "execution_count": null,
      "metadata": {
        "colab": {
          "base_uri": "https://localhost:8080/",
          "height": 204
        },
        "id": "yjLUdM6ahlrW",
        "outputId": "005ad122-9f94-4617-81d9-fa8f0d550862"
      },
      "outputs": [
        {
          "output_type": "execute_result",
          "data": {
            "text/plain": [
              "   age     sex     bmi  children smoker     region      charges\n",
              "0   19  female  27.900         0    yes  southwest  16884.92400\n",
              "1   18    male  33.770         1     no  southeast   1725.55230\n",
              "2   28    male  33.000         3     no  southeast   4449.46200\n",
              "3   33    male  22.705         0     no  northwest  21984.47061\n",
              "4   32    male  28.880         0     no  northwest   3866.85520"
            ],
            "text/html": [
              "\n",
              "  <div id=\"df-6e0665f0-1a25-457d-9791-0b7587950c1b\">\n",
              "    <div class=\"colab-df-container\">\n",
              "      <div>\n",
              "<style scoped>\n",
              "    .dataframe tbody tr th:only-of-type {\n",
              "        vertical-align: middle;\n",
              "    }\n",
              "\n",
              "    .dataframe tbody tr th {\n",
              "        vertical-align: top;\n",
              "    }\n",
              "\n",
              "    .dataframe thead th {\n",
              "        text-align: right;\n",
              "    }\n",
              "</style>\n",
              "<table border=\"1\" class=\"dataframe\">\n",
              "  <thead>\n",
              "    <tr style=\"text-align: right;\">\n",
              "      <th></th>\n",
              "      <th>age</th>\n",
              "      <th>sex</th>\n",
              "      <th>bmi</th>\n",
              "      <th>children</th>\n",
              "      <th>smoker</th>\n",
              "      <th>region</th>\n",
              "      <th>charges</th>\n",
              "    </tr>\n",
              "  </thead>\n",
              "  <tbody>\n",
              "    <tr>\n",
              "      <th>0</th>\n",
              "      <td>19</td>\n",
              "      <td>female</td>\n",
              "      <td>27.900</td>\n",
              "      <td>0</td>\n",
              "      <td>yes</td>\n",
              "      <td>southwest</td>\n",
              "      <td>16884.92400</td>\n",
              "    </tr>\n",
              "    <tr>\n",
              "      <th>1</th>\n",
              "      <td>18</td>\n",
              "      <td>male</td>\n",
              "      <td>33.770</td>\n",
              "      <td>1</td>\n",
              "      <td>no</td>\n",
              "      <td>southeast</td>\n",
              "      <td>1725.55230</td>\n",
              "    </tr>\n",
              "    <tr>\n",
              "      <th>2</th>\n",
              "      <td>28</td>\n",
              "      <td>male</td>\n",
              "      <td>33.000</td>\n",
              "      <td>3</td>\n",
              "      <td>no</td>\n",
              "      <td>southeast</td>\n",
              "      <td>4449.46200</td>\n",
              "    </tr>\n",
              "    <tr>\n",
              "      <th>3</th>\n",
              "      <td>33</td>\n",
              "      <td>male</td>\n",
              "      <td>22.705</td>\n",
              "      <td>0</td>\n",
              "      <td>no</td>\n",
              "      <td>northwest</td>\n",
              "      <td>21984.47061</td>\n",
              "    </tr>\n",
              "    <tr>\n",
              "      <th>4</th>\n",
              "      <td>32</td>\n",
              "      <td>male</td>\n",
              "      <td>28.880</td>\n",
              "      <td>0</td>\n",
              "      <td>no</td>\n",
              "      <td>northwest</td>\n",
              "      <td>3866.85520</td>\n",
              "    </tr>\n",
              "  </tbody>\n",
              "</table>\n",
              "</div>\n",
              "      <button class=\"colab-df-convert\" onclick=\"convertToInteractive('df-6e0665f0-1a25-457d-9791-0b7587950c1b')\"\n",
              "              title=\"Convert this dataframe to an interactive table.\"\n",
              "              style=\"display:none;\">\n",
              "        \n",
              "  <svg xmlns=\"http://www.w3.org/2000/svg\" height=\"24px\"viewBox=\"0 0 24 24\"\n",
              "       width=\"24px\">\n",
              "    <path d=\"M0 0h24v24H0V0z\" fill=\"none\"/>\n",
              "    <path d=\"M18.56 5.44l.94 2.06.94-2.06 2.06-.94-2.06-.94-.94-2.06-.94 2.06-2.06.94zm-11 1L8.5 8.5l.94-2.06 2.06-.94-2.06-.94L8.5 2.5l-.94 2.06-2.06.94zm10 10l.94 2.06.94-2.06 2.06-.94-2.06-.94-.94-2.06-.94 2.06-2.06.94z\"/><path d=\"M17.41 7.96l-1.37-1.37c-.4-.4-.92-.59-1.43-.59-.52 0-1.04.2-1.43.59L10.3 9.45l-7.72 7.72c-.78.78-.78 2.05 0 2.83L4 21.41c.39.39.9.59 1.41.59.51 0 1.02-.2 1.41-.59l7.78-7.78 2.81-2.81c.8-.78.8-2.07 0-2.86zM5.41 20L4 18.59l7.72-7.72 1.47 1.35L5.41 20z\"/>\n",
              "  </svg>\n",
              "      </button>\n",
              "      \n",
              "  <style>\n",
              "    .colab-df-container {\n",
              "      display:flex;\n",
              "      flex-wrap:wrap;\n",
              "      gap: 12px;\n",
              "    }\n",
              "\n",
              "    .colab-df-convert {\n",
              "      background-color: #E8F0FE;\n",
              "      border: none;\n",
              "      border-radius: 50%;\n",
              "      cursor: pointer;\n",
              "      display: none;\n",
              "      fill: #1967D2;\n",
              "      height: 32px;\n",
              "      padding: 0 0 0 0;\n",
              "      width: 32px;\n",
              "    }\n",
              "\n",
              "    .colab-df-convert:hover {\n",
              "      background-color: #E2EBFA;\n",
              "      box-shadow: 0px 1px 2px rgba(60, 64, 67, 0.3), 0px 1px 3px 1px rgba(60, 64, 67, 0.15);\n",
              "      fill: #174EA6;\n",
              "    }\n",
              "\n",
              "    [theme=dark] .colab-df-convert {\n",
              "      background-color: #3B4455;\n",
              "      fill: #D2E3FC;\n",
              "    }\n",
              "\n",
              "    [theme=dark] .colab-df-convert:hover {\n",
              "      background-color: #434B5C;\n",
              "      box-shadow: 0px 1px 3px 1px rgba(0, 0, 0, 0.15);\n",
              "      filter: drop-shadow(0px 1px 2px rgba(0, 0, 0, 0.3));\n",
              "      fill: #FFFFFF;\n",
              "    }\n",
              "  </style>\n",
              "\n",
              "      <script>\n",
              "        const buttonEl =\n",
              "          document.querySelector('#df-6e0665f0-1a25-457d-9791-0b7587950c1b button.colab-df-convert');\n",
              "        buttonEl.style.display =\n",
              "          google.colab.kernel.accessAllowed ? 'block' : 'none';\n",
              "\n",
              "        async function convertToInteractive(key) {\n",
              "          const element = document.querySelector('#df-6e0665f0-1a25-457d-9791-0b7587950c1b');\n",
              "          const dataTable =\n",
              "            await google.colab.kernel.invokeFunction('convertToInteractive',\n",
              "                                                     [key], {});\n",
              "          if (!dataTable) return;\n",
              "\n",
              "          const docLinkHtml = 'Like what you see? Visit the ' +\n",
              "            '<a target=\"_blank\" href=https://colab.research.google.com/notebooks/data_table.ipynb>data table notebook</a>'\n",
              "            + ' to learn more about interactive tables.';\n",
              "          element.innerHTML = '';\n",
              "          dataTable['output_type'] = 'display_data';\n",
              "          await google.colab.output.renderOutput(dataTable, element);\n",
              "          const docLink = document.createElement('div');\n",
              "          docLink.innerHTML = docLinkHtml;\n",
              "          element.appendChild(docLink);\n",
              "        }\n",
              "      </script>\n",
              "    </div>\n",
              "  </div>\n",
              "  "
            ]
          },
          "metadata": {},
          "execution_count": 3
        }
      ],
      "source": [
        "import pandas as pd\n",
        "\n",
        "df = pd.read_csv('datasets/insurance.csv') \n",
        "df.head()"
      ]
    },
    {
      "cell_type": "markdown",
      "source": [
        "*Source du dataset : [Kaggle](https://www.kaggle.com/datasets/mirichoi0218/insurance)*"
      ],
      "metadata": {
        "id": "UNIAN9reIFHB"
      }
    },
    {
      "cell_type": "markdown",
      "source": [
        "The objective in this problem is to use **the age, gender, BMI, number of children, smoking and region of residence** (prediction data) of individuals to predict their **health insurance charges** (prediction data).\n",
        "\n",
        "This is called **Multiple Linear Regression** because we take **multiple variables** to explain **another one.**\n",
        "\n",
        "Many of these data are **categorical variables.**\n",
        "\n",
        "For example, **gender** has two options:\n",
        "\n",
        "* male\n",
        "* female\n",
        "\n",
        "Instead of having this data in text form, let’s turn it into **numbers**:\n",
        "\n",
        "* 0\n",
        "* 1\n",
        "\n",
        "We apply this transformation by putting the result in a new variable X :"
      ],
      "metadata": {
        "id": "PteEq8-uNaLu"
      }
    },
    {
      "cell_type": "code",
      "source": [
        "X = pd.DataFrame()\n",
        "df.sex = pd.Categorical(df.sex)\n",
        "\n",
        "X['sex'] = df.sex.cat.codes"
      ],
      "metadata": {
        "id": "pgbMzhdyG16G"
      },
      "execution_count": null,
      "outputs": []
    },
    {
      "cell_type": "markdown",
      "source": [
        "We display the result:"
      ],
      "metadata": {
        "id": "WpmytOJZNqGG"
      }
    },
    {
      "cell_type": "code",
      "source": [
        "X.head()"
      ],
      "metadata": {
        "colab": {
          "base_uri": "https://localhost:8080/",
          "height": 204
        },
        "id": "ff_bz2jlHbKj",
        "outputId": "a41eb530-1dd0-458a-dae1-00ff6aa61618"
      },
      "execution_count": null,
      "outputs": [
        {
          "output_type": "execute_result",
          "data": {
            "text/plain": [
              "   sex\n",
              "0    0\n",
              "1    1\n",
              "2    1\n",
              "3    1\n",
              "4    1"
            ],
            "text/html": [
              "\n",
              "  <div id=\"df-aaa4d39a-8c3d-4e62-a973-b34fba1c8955\">\n",
              "    <div class=\"colab-df-container\">\n",
              "      <div>\n",
              "<style scoped>\n",
              "    .dataframe tbody tr th:only-of-type {\n",
              "        vertical-align: middle;\n",
              "    }\n",
              "\n",
              "    .dataframe tbody tr th {\n",
              "        vertical-align: top;\n",
              "    }\n",
              "\n",
              "    .dataframe thead th {\n",
              "        text-align: right;\n",
              "    }\n",
              "</style>\n",
              "<table border=\"1\" class=\"dataframe\">\n",
              "  <thead>\n",
              "    <tr style=\"text-align: right;\">\n",
              "      <th></th>\n",
              "      <th>sex</th>\n",
              "    </tr>\n",
              "  </thead>\n",
              "  <tbody>\n",
              "    <tr>\n",
              "      <th>0</th>\n",
              "      <td>0</td>\n",
              "    </tr>\n",
              "    <tr>\n",
              "      <th>1</th>\n",
              "      <td>1</td>\n",
              "    </tr>\n",
              "    <tr>\n",
              "      <th>2</th>\n",
              "      <td>1</td>\n",
              "    </tr>\n",
              "    <tr>\n",
              "      <th>3</th>\n",
              "      <td>1</td>\n",
              "    </tr>\n",
              "    <tr>\n",
              "      <th>4</th>\n",
              "      <td>1</td>\n",
              "    </tr>\n",
              "  </tbody>\n",
              "</table>\n",
              "</div>\n",
              "      <button class=\"colab-df-convert\" onclick=\"convertToInteractive('df-aaa4d39a-8c3d-4e62-a973-b34fba1c8955')\"\n",
              "              title=\"Convert this dataframe to an interactive table.\"\n",
              "              style=\"display:none;\">\n",
              "        \n",
              "  <svg xmlns=\"http://www.w3.org/2000/svg\" height=\"24px\"viewBox=\"0 0 24 24\"\n",
              "       width=\"24px\">\n",
              "    <path d=\"M0 0h24v24H0V0z\" fill=\"none\"/>\n",
              "    <path d=\"M18.56 5.44l.94 2.06.94-2.06 2.06-.94-2.06-.94-.94-2.06-.94 2.06-2.06.94zm-11 1L8.5 8.5l.94-2.06 2.06-.94-2.06-.94L8.5 2.5l-.94 2.06-2.06.94zm10 10l.94 2.06.94-2.06 2.06-.94-2.06-.94-.94-2.06-.94 2.06-2.06.94z\"/><path d=\"M17.41 7.96l-1.37-1.37c-.4-.4-.92-.59-1.43-.59-.52 0-1.04.2-1.43.59L10.3 9.45l-7.72 7.72c-.78.78-.78 2.05 0 2.83L4 21.41c.39.39.9.59 1.41.59.51 0 1.02-.2 1.41-.59l7.78-7.78 2.81-2.81c.8-.78.8-2.07 0-2.86zM5.41 20L4 18.59l7.72-7.72 1.47 1.35L5.41 20z\"/>\n",
              "  </svg>\n",
              "      </button>\n",
              "      \n",
              "  <style>\n",
              "    .colab-df-container {\n",
              "      display:flex;\n",
              "      flex-wrap:wrap;\n",
              "      gap: 12px;\n",
              "    }\n",
              "\n",
              "    .colab-df-convert {\n",
              "      background-color: #E8F0FE;\n",
              "      border: none;\n",
              "      border-radius: 50%;\n",
              "      cursor: pointer;\n",
              "      display: none;\n",
              "      fill: #1967D2;\n",
              "      height: 32px;\n",
              "      padding: 0 0 0 0;\n",
              "      width: 32px;\n",
              "    }\n",
              "\n",
              "    .colab-df-convert:hover {\n",
              "      background-color: #E2EBFA;\n",
              "      box-shadow: 0px 1px 2px rgba(60, 64, 67, 0.3), 0px 1px 3px 1px rgba(60, 64, 67, 0.15);\n",
              "      fill: #174EA6;\n",
              "    }\n",
              "\n",
              "    [theme=dark] .colab-df-convert {\n",
              "      background-color: #3B4455;\n",
              "      fill: #D2E3FC;\n",
              "    }\n",
              "\n",
              "    [theme=dark] .colab-df-convert:hover {\n",
              "      background-color: #434B5C;\n",
              "      box-shadow: 0px 1px 3px 1px rgba(0, 0, 0, 0.15);\n",
              "      filter: drop-shadow(0px 1px 2px rgba(0, 0, 0, 0.3));\n",
              "      fill: #FFFFFF;\n",
              "    }\n",
              "  </style>\n",
              "\n",
              "      <script>\n",
              "        const buttonEl =\n",
              "          document.querySelector('#df-aaa4d39a-8c3d-4e62-a973-b34fba1c8955 button.colab-df-convert');\n",
              "        buttonEl.style.display =\n",
              "          google.colab.kernel.accessAllowed ? 'block' : 'none';\n",
              "\n",
              "        async function convertToInteractive(key) {\n",
              "          const element = document.querySelector('#df-aaa4d39a-8c3d-4e62-a973-b34fba1c8955');\n",
              "          const dataTable =\n",
              "            await google.colab.kernel.invokeFunction('convertToInteractive',\n",
              "                                                     [key], {});\n",
              "          if (!dataTable) return;\n",
              "\n",
              "          const docLinkHtml = 'Like what you see? Visit the ' +\n",
              "            '<a target=\"_blank\" href=https://colab.research.google.com/notebooks/data_table.ipynb>data table notebook</a>'\n",
              "            + ' to learn more about interactive tables.';\n",
              "          element.innerHTML = '';\n",
              "          dataTable['output_type'] = 'display_data';\n",
              "          await google.colab.output.renderOutput(dataTable, element);\n",
              "          const docLink = document.createElement('div');\n",
              "          docLink.innerHTML = docLinkHtml;\n",
              "          element.appendChild(docLink);\n",
              "        }\n",
              "      </script>\n",
              "    </div>\n",
              "  </div>\n",
              "  "
            ]
          },
          "metadata": {},
          "execution_count": 5
        }
      ]
    },
    {
      "cell_type": "markdown",
      "source": [
        "The transformation categorical **text** => categorical **numbers** works.\n",
        "\n",
        "Let’s apply it to the rest of our **categorical data:**"
      ],
      "metadata": {
        "id": "9NsrkxE7Nr2-"
      }
    },
    {
      "cell_type": "code",
      "source": [
        "df.smoker = pd.Categorical(df.smoker)\n",
        "df.region = pd.Categorical(df.region)\n",
        "\n",
        "X['smoker'] = df.smoker.cat.codes\n",
        "X['region'] = df.region.cat.codes"
      ],
      "metadata": {
        "id": "cxikj1YzHSXS"
      },
      "execution_count": null,
      "outputs": []
    },
    {
      "cell_type": "markdown",
      "source": [
        "We now have all our categorical data in the variable X.\n",
        "\n",
        "Let’s transfer the rest of the prediction data into this same variable:"
      ],
      "metadata": {
        "id": "Y6KCrxWcNwPa"
      }
    },
    {
      "cell_type": "code",
      "source": [
        "X['age'] = df['age']\n",
        "X['bmi'] = df['bmi']"
      ],
      "metadata": {
        "id": "VqARaJVmHoi-"
      },
      "execution_count": null,
      "outputs": []
    },
    {
      "cell_type": "markdown",
      "source": [
        "We now have all our prediction data in the variable X. Let’s display them:"
      ],
      "metadata": {
        "id": "kE393G2JNyfe"
      }
    },
    {
      "cell_type": "code",
      "source": [
        "X.head()"
      ],
      "metadata": {
        "colab": {
          "base_uri": "https://localhost:8080/",
          "height": 204
        },
        "id": "ZOfzE7_UHSZ2",
        "outputId": "cc2cd71e-b887-48e5-eda9-7fa4a20fcf85"
      },
      "execution_count": null,
      "outputs": [
        {
          "output_type": "execute_result",
          "data": {
            "text/plain": [
              "   sex  smoker  region  age     bmi\n",
              "0    0       1       3   19  27.900\n",
              "1    1       0       2   18  33.770\n",
              "2    1       0       2   28  33.000\n",
              "3    1       0       1   33  22.705\n",
              "4    1       0       1   32  28.880"
            ],
            "text/html": [
              "\n",
              "  <div id=\"df-221b05ad-f3d3-47c7-9cd9-a808201b1a80\">\n",
              "    <div class=\"colab-df-container\">\n",
              "      <div>\n",
              "<style scoped>\n",
              "    .dataframe tbody tr th:only-of-type {\n",
              "        vertical-align: middle;\n",
              "    }\n",
              "\n",
              "    .dataframe tbody tr th {\n",
              "        vertical-align: top;\n",
              "    }\n",
              "\n",
              "    .dataframe thead th {\n",
              "        text-align: right;\n",
              "    }\n",
              "</style>\n",
              "<table border=\"1\" class=\"dataframe\">\n",
              "  <thead>\n",
              "    <tr style=\"text-align: right;\">\n",
              "      <th></th>\n",
              "      <th>sex</th>\n",
              "      <th>smoker</th>\n",
              "      <th>region</th>\n",
              "      <th>age</th>\n",
              "      <th>bmi</th>\n",
              "    </tr>\n",
              "  </thead>\n",
              "  <tbody>\n",
              "    <tr>\n",
              "      <th>0</th>\n",
              "      <td>0</td>\n",
              "      <td>1</td>\n",
              "      <td>3</td>\n",
              "      <td>19</td>\n",
              "      <td>27.900</td>\n",
              "    </tr>\n",
              "    <tr>\n",
              "      <th>1</th>\n",
              "      <td>1</td>\n",
              "      <td>0</td>\n",
              "      <td>2</td>\n",
              "      <td>18</td>\n",
              "      <td>33.770</td>\n",
              "    </tr>\n",
              "    <tr>\n",
              "      <th>2</th>\n",
              "      <td>1</td>\n",
              "      <td>0</td>\n",
              "      <td>2</td>\n",
              "      <td>28</td>\n",
              "      <td>33.000</td>\n",
              "    </tr>\n",
              "    <tr>\n",
              "      <th>3</th>\n",
              "      <td>1</td>\n",
              "      <td>0</td>\n",
              "      <td>1</td>\n",
              "      <td>33</td>\n",
              "      <td>22.705</td>\n",
              "    </tr>\n",
              "    <tr>\n",
              "      <th>4</th>\n",
              "      <td>1</td>\n",
              "      <td>0</td>\n",
              "      <td>1</td>\n",
              "      <td>32</td>\n",
              "      <td>28.880</td>\n",
              "    </tr>\n",
              "  </tbody>\n",
              "</table>\n",
              "</div>\n",
              "      <button class=\"colab-df-convert\" onclick=\"convertToInteractive('df-221b05ad-f3d3-47c7-9cd9-a808201b1a80')\"\n",
              "              title=\"Convert this dataframe to an interactive table.\"\n",
              "              style=\"display:none;\">\n",
              "        \n",
              "  <svg xmlns=\"http://www.w3.org/2000/svg\" height=\"24px\"viewBox=\"0 0 24 24\"\n",
              "       width=\"24px\">\n",
              "    <path d=\"M0 0h24v24H0V0z\" fill=\"none\"/>\n",
              "    <path d=\"M18.56 5.44l.94 2.06.94-2.06 2.06-.94-2.06-.94-.94-2.06-.94 2.06-2.06.94zm-11 1L8.5 8.5l.94-2.06 2.06-.94-2.06-.94L8.5 2.5l-.94 2.06-2.06.94zm10 10l.94 2.06.94-2.06 2.06-.94-2.06-.94-.94-2.06-.94 2.06-2.06.94z\"/><path d=\"M17.41 7.96l-1.37-1.37c-.4-.4-.92-.59-1.43-.59-.52 0-1.04.2-1.43.59L10.3 9.45l-7.72 7.72c-.78.78-.78 2.05 0 2.83L4 21.41c.39.39.9.59 1.41.59.51 0 1.02-.2 1.41-.59l7.78-7.78 2.81-2.81c.8-.78.8-2.07 0-2.86zM5.41 20L4 18.59l7.72-7.72 1.47 1.35L5.41 20z\"/>\n",
              "  </svg>\n",
              "      </button>\n",
              "      \n",
              "  <style>\n",
              "    .colab-df-container {\n",
              "      display:flex;\n",
              "      flex-wrap:wrap;\n",
              "      gap: 12px;\n",
              "    }\n",
              "\n",
              "    .colab-df-convert {\n",
              "      background-color: #E8F0FE;\n",
              "      border: none;\n",
              "      border-radius: 50%;\n",
              "      cursor: pointer;\n",
              "      display: none;\n",
              "      fill: #1967D2;\n",
              "      height: 32px;\n",
              "      padding: 0 0 0 0;\n",
              "      width: 32px;\n",
              "    }\n",
              "\n",
              "    .colab-df-convert:hover {\n",
              "      background-color: #E2EBFA;\n",
              "      box-shadow: 0px 1px 2px rgba(60, 64, 67, 0.3), 0px 1px 3px 1px rgba(60, 64, 67, 0.15);\n",
              "      fill: #174EA6;\n",
              "    }\n",
              "\n",
              "    [theme=dark] .colab-df-convert {\n",
              "      background-color: #3B4455;\n",
              "      fill: #D2E3FC;\n",
              "    }\n",
              "\n",
              "    [theme=dark] .colab-df-convert:hover {\n",
              "      background-color: #434B5C;\n",
              "      box-shadow: 0px 1px 3px 1px rgba(0, 0, 0, 0.15);\n",
              "      filter: drop-shadow(0px 1px 2px rgba(0, 0, 0, 0.3));\n",
              "      fill: #FFFFFF;\n",
              "    }\n",
              "  </style>\n",
              "\n",
              "      <script>\n",
              "        const buttonEl =\n",
              "          document.querySelector('#df-221b05ad-f3d3-47c7-9cd9-a808201b1a80 button.colab-df-convert');\n",
              "        buttonEl.style.display =\n",
              "          google.colab.kernel.accessAllowed ? 'block' : 'none';\n",
              "\n",
              "        async function convertToInteractive(key) {\n",
              "          const element = document.querySelector('#df-221b05ad-f3d3-47c7-9cd9-a808201b1a80');\n",
              "          const dataTable =\n",
              "            await google.colab.kernel.invokeFunction('convertToInteractive',\n",
              "                                                     [key], {});\n",
              "          if (!dataTable) return;\n",
              "\n",
              "          const docLinkHtml = 'Like what you see? Visit the ' +\n",
              "            '<a target=\"_blank\" href=https://colab.research.google.com/notebooks/data_table.ipynb>data table notebook</a>'\n",
              "            + ' to learn more about interactive tables.';\n",
              "          element.innerHTML = '';\n",
              "          dataTable['output_type'] = 'display_data';\n",
              "          await google.colab.output.renderOutput(dataTable, element);\n",
              "          const docLink = document.createElement('div');\n",
              "          docLink.innerHTML = docLinkHtml;\n",
              "          element.appendChild(docLink);\n",
              "        }\n",
              "      </script>\n",
              "    </div>\n",
              "  </div>\n",
              "  "
            ]
          },
          "metadata": {},
          "execution_count": 8
        }
      ]
    },
    {
      "cell_type": "markdown",
      "source": [
        "### **X_train, X_test, Y_train, Y_test**"
      ],
      "metadata": {
        "id": "qydHlqLiOKu1"
      }
    },
    {
      "cell_type": "markdown",
      "source": [
        "All we need now is the data to predict **Y** :"
      ],
      "metadata": {
        "id": "tj1JiUf9ONyJ"
      }
    },
    {
      "cell_type": "code",
      "source": [
        "Y = df['charges']"
      ],
      "metadata": {
        "id": "YRHQJIBtIBEZ"
      },
      "execution_count": null,
      "outputs": []
    },
    {
      "cell_type": "markdown",
      "source": [
        "We have the **X** and the **Y**.\n",
        "\n",
        "We can now separate the **training** and **test** data :"
      ],
      "metadata": {
        "id": "fCEZrjTeOPTQ"
      }
    },
    {
      "cell_type": "code",
      "source": [
        "from sklearn.model_selection import train_test_split\n",
        "\n",
        "X_train, X_test, Y_train, Y_test = train_test_split(X, Y, test_size=0.20)"
      ],
      "metadata": {
        "id": "qEGmd6FImJWB"
      },
      "execution_count": null,
      "outputs": []
    },
    {
      "cell_type": "markdown",
      "source": [
        "Our data is ready!\n",
        "\n",
        "We can get down to business with **Deep Learning.**\n",
        "\n",
        "**IMPORTANT**: *If you don’t understand what X and Y data and/or training and test data are, I invite you to read [this introduction article to Keras.*](https://inside-machinelearning.com/en/first-projec-keras/)"
      ],
      "metadata": {
        "id": "x-C7YshaOVjY"
      }
    },
    {
      "cell_type": "markdown",
      "source": [
        "## **Linear Regression Model with Keras**"
      ],
      "metadata": {
        "id": "ePmex3ADOgQv"
      }
    },
    {
      "cell_type": "markdown",
      "source": [
        "To do a Multiple Linear Regression with Keras, we need to import :"
      ],
      "metadata": {
        "id": "0xHMMC0QOgiZ"
      }
    },
    {
      "cell_type": "code",
      "source": [
        "from tensorflow.keras.models import Sequential\n",
        "from tensorflow.keras.layers import Dense\n",
        "from tensorflow.keras.layers import Dropout"
      ],
      "metadata": {
        "id": "1TWFv0eokgbH"
      },
      "execution_count": null,
      "outputs": []
    },
    {
      "cell_type": "markdown",
      "source": [
        "The Dropout layer is not essential but I use it here to improve the performance of my model.\n",
        "\n",
        "If you are a beginner you can try with **two simple Dense layers**, like this:\n",
        "\n",
        "\n",
        "```\n",
        "model.add(Dense(64, input_dim = 5, activation = ‘relu’))\n",
        "model.add(Dense(1))\n",
        "```\n",
        "\n",
        "And add layers as you **go along.**\n",
        "\n",
        "Keep in mind that the **essential thing about this Linear Regression model** is that it ends with a Dense layer with a single neuron and no activation function.\n",
        "\n",
        "**The absence of an activation function** allows it to have values between **-∞ and +∞.**\n",
        "\n",
        "If it ended with a sigmoid activation function, the result values would be between 0 and 1.\n",
        "\n",
        "\n",
        "**This is not good**, the insurance charges can exceed 1 ($) by far, **we need an unbounded result.**\n",
        "\n",
        "That’s why we choose NOT to take an activation function for the last layer.\n",
        "\n",
        "Here is the model I use:"
      ],
      "metadata": {
        "id": "knB3gzZhOp3s"
      }
    },
    {
      "cell_type": "code",
      "source": [
        "model = Sequential()\n",
        "model.add(Dense(64, input_dim = 5, activation = 'relu'))\n",
        "model.add(Dropout(0.15))\n",
        "model.add(Dense(64, activation = 'relu'))\n",
        "model.add(Dropout(0.2))\n",
        "model.add(Dense(40, activation = 'relu'))\n",
        "model.add(Dropout(0.15))\n",
        "model.add(Dense(54, activation = 'relu'))\n",
        "model.add(Dropout(0.18))\n",
        "model.add(Dense(1))"
      ],
      "metadata": {
        "id": "RuiiV9LWRX_C"
      },
      "execution_count": null,
      "outputs": []
    },
    {
      "cell_type": "markdown",
      "source": [
        "We compile :"
      ],
      "metadata": {
        "id": "gXN4T6HTO9QS"
      }
    },
    {
      "cell_type": "code",
      "source": [
        "model.compile(optimizer = 'adam', loss = 'mean_squared_error', metrics = ['mse', 'mae'])"
      ],
      "metadata": {
        "id": "UQ-lEWjcmVxi"
      },
      "execution_count": null,
      "outputs": []
    },
    {
      "cell_type": "markdown",
      "source": [
        "For the compilation⬆ the linear regression gives us a last constraint: the loss function must be the **Mean Squared Error.**\n",
        "\n",
        "It allows us to calculate the error between our prediction and the actual result.\n",
        "\n",
        "The error is a kind of **distance** between our two data.\n",
        "\n",
        "**The more the prediction is far from the real result, the more the model must improve.**\n",
        "\n",
        "Another thing, for the metrics I chose to display here the mse (**Mean Squared Error**) and the mae (**Mean Absolute Error**).\n",
        "\n",
        "With each of this two error, we can see how results evolve.\n",
        "\n",
        "The idea is that the more the model is optimized, the more the error should decrease."
      ],
      "metadata": {
        "id": "OnDaf7pdO-wH"
      }
    },
    {
      "cell_type": "markdown",
      "source": [
        "### **Training**"
      ],
      "metadata": {
        "id": "MGg-Y-zAPIJF"
      }
    },
    {
      "cell_type": "markdown",
      "source": [
        "We can train the model :"
      ],
      "metadata": {
        "id": "gjuPAYEUPJgr"
      }
    },
    {
      "cell_type": "code",
      "source": [
        "history = model.fit(X_train, Y_train, validation_split=0.2, epochs=200)"
      ],
      "metadata": {
        "colab": {
          "base_uri": "https://localhost:8080/"
        },
        "id": "Rff_SK26nEy9",
        "outputId": "859d044a-f00f-4782-8d40-64b1620e82ef"
      },
      "execution_count": null,
      "outputs": [
        {
          "output_type": "stream",
          "name": "stdout",
          "text": [
            "Epoch 1/200\n",
            "27/27 [==============================] - 5s 61ms/step - loss: 327354016.0000 - mse: 327354016.0000 - mae: 13437.3311 - val_loss: 311034752.0000 - val_mse: 311034752.0000 - val_mae: 12642.7451\n",
            "Epoch 2/200\n",
            "27/27 [==============================] - 0s 18ms/step - loss: 312698048.0000 - mse: 312698048.0000 - mae: 12920.6406 - val_loss: 277125632.0000 - val_mse: 277125632.0000 - val_mae: 11329.5576\n",
            "Epoch 3/200\n",
            "27/27 [==============================] - 0s 17ms/step - loss: 226802848.0000 - mse: 226802848.0000 - mae: 9822.6895 - val_loss: 145255328.0000 - val_mse: 145255328.0000 - val_mae: 7649.0239\n",
            "Epoch 4/200\n",
            "27/27 [==============================] - 1s 20ms/step - loss: 140952320.0000 - mse: 140952320.0000 - mae: 9482.2607 - val_loss: 135090704.0000 - val_mse: 135090704.0000 - val_mae: 8801.4463\n",
            "Epoch 5/200\n",
            "27/27 [==============================] - 1s 27ms/step - loss: 133649296.0000 - mse: 133649296.0000 - mae: 8777.1680 - val_loss: 134685136.0000 - val_mse: 134685136.0000 - val_mae: 9114.4336\n",
            "Epoch 6/200\n",
            "27/27 [==============================] - 1s 18ms/step - loss: 134775584.0000 - mse: 134775584.0000 - mae: 9230.6270 - val_loss: 134416800.0000 - val_mse: 134416800.0000 - val_mae: 9135.3994\n",
            "Epoch 7/200\n",
            "27/27 [==============================] - 0s 18ms/step - loss: 137386064.0000 - mse: 137386064.0000 - mae: 8880.6973 - val_loss: 134861024.0000 - val_mse: 134861024.0000 - val_mae: 9399.9072\n",
            "Epoch 8/200\n",
            "27/27 [==============================] - 0s 14ms/step - loss: 130890864.0000 - mse: 130890864.0000 - mae: 9178.3008 - val_loss: 133833080.0000 - val_mse: 133833080.0000 - val_mae: 8977.9170\n",
            "Epoch 9/200\n",
            "27/27 [==============================] - 1s 19ms/step - loss: 133907912.0000 - mse: 133907912.0000 - mae: 9020.1523 - val_loss: 133584592.0000 - val_mse: 133584592.0000 - val_mae: 9044.2881\n",
            "Epoch 10/200\n",
            "27/27 [==============================] - 1s 21ms/step - loss: 132201576.0000 - mse: 132201576.0000 - mae: 9064.0967 - val_loss: 133313688.0000 - val_mse: 133313688.0000 - val_mae: 8870.5723\n",
            "Epoch 11/200\n",
            "27/27 [==============================] - 0s 16ms/step - loss: 128823776.0000 - mse: 128823776.0000 - mae: 8850.1562 - val_loss: 133317792.0000 - val_mse: 133317792.0000 - val_mae: 9198.4512\n",
            "Epoch 12/200\n",
            "27/27 [==============================] - 0s 10ms/step - loss: 132860128.0000 - mse: 132860128.0000 - mae: 9176.8574 - val_loss: 132949168.0000 - val_mse: 132949168.0000 - val_mae: 8780.6680\n",
            "Epoch 13/200\n",
            "27/27 [==============================] - 1s 20ms/step - loss: 130276480.0000 - mse: 130276480.0000 - mae: 8916.2129 - val_loss: 132537240.0000 - val_mse: 132537240.0000 - val_mae: 8964.2637\n",
            "Epoch 14/200\n",
            "27/27 [==============================] - 1s 21ms/step - loss: 129394976.0000 - mse: 129394976.0000 - mae: 8990.1631 - val_loss: 132394024.0000 - val_mse: 132394024.0000 - val_mae: 9121.3291\n",
            "Epoch 15/200\n",
            "27/27 [==============================] - 1s 26ms/step - loss: 133832600.0000 - mse: 133832600.0000 - mae: 9084.3838 - val_loss: 132053280.0000 - val_mse: 132053280.0000 - val_mae: 9091.3867\n",
            "Epoch 16/200\n",
            "27/27 [==============================] - 0s 14ms/step - loss: 130367352.0000 - mse: 130367352.0000 - mae: 8845.7852 - val_loss: 131680352.0000 - val_mse: 131680352.0000 - val_mae: 8909.7129\n",
            "Epoch 17/200\n",
            "27/27 [==============================] - 1s 23ms/step - loss: 129418696.0000 - mse: 129418696.0000 - mae: 8993.2090 - val_loss: 131471912.0000 - val_mse: 131471912.0000 - val_mae: 9070.7432\n",
            "Epoch 18/200\n",
            "27/27 [==============================] - 0s 16ms/step - loss: 128008128.0000 - mse: 128008128.0000 - mae: 8887.7148 - val_loss: 131328136.0000 - val_mse: 131328136.0000 - val_mae: 9132.8770\n",
            "Epoch 19/200\n",
            "27/27 [==============================] - 0s 14ms/step - loss: 127743264.0000 - mse: 127743264.0000 - mae: 8972.6230 - val_loss: 130794216.0000 - val_mse: 130794216.0000 - val_mae: 8869.5215\n",
            "Epoch 20/200\n",
            "27/27 [==============================] - 0s 17ms/step - loss: 126818728.0000 - mse: 126818728.0000 - mae: 8932.4053 - val_loss: 130444664.0000 - val_mse: 130444664.0000 - val_mae: 8859.3340\n",
            "Epoch 21/200\n",
            "27/27 [==============================] - 0s 10ms/step - loss: 127277440.0000 - mse: 127277440.0000 - mae: 8741.6406 - val_loss: 130067064.0000 - val_mse: 130067064.0000 - val_mae: 8982.7100\n",
            "Epoch 22/200\n",
            "27/27 [==============================] - 0s 9ms/step - loss: 127734632.0000 - mse: 127734632.0000 - mae: 8899.0557 - val_loss: 130467320.0000 - val_mse: 130467320.0000 - val_mae: 9292.5879\n",
            "Epoch 23/200\n",
            "27/27 [==============================] - 0s 9ms/step - loss: 126704800.0000 - mse: 126704800.0000 - mae: 8810.6250 - val_loss: 129307152.0000 - val_mse: 129307152.0000 - val_mae: 8905.5078\n",
            "Epoch 24/200\n",
            "27/27 [==============================] - 0s 8ms/step - loss: 126052240.0000 - mse: 126052240.0000 - mae: 8808.1855 - val_loss: 129215984.0000 - val_mse: 129215984.0000 - val_mae: 9144.5352\n",
            "Epoch 25/200\n",
            "27/27 [==============================] - 0s 7ms/step - loss: 128135608.0000 - mse: 128135608.0000 - mae: 8989.3213 - val_loss: 128870656.0000 - val_mse: 128870656.0000 - val_mae: 8529.5264\n",
            "Epoch 26/200\n",
            "27/27 [==============================] - 0s 7ms/step - loss: 126031088.0000 - mse: 126031088.0000 - mae: 8745.9834 - val_loss: 128101768.0000 - val_mse: 128101768.0000 - val_mae: 9006.8525\n",
            "Epoch 27/200\n",
            "27/27 [==============================] - 0s 5ms/step - loss: 127878944.0000 - mse: 127878944.0000 - mae: 9076.0605 - val_loss: 127552248.0000 - val_mse: 127552248.0000 - val_mae: 8705.4033\n",
            "Epoch 28/200\n",
            "27/27 [==============================] - 0s 4ms/step - loss: 126627368.0000 - mse: 126627368.0000 - mae: 8771.8623 - val_loss: 127002384.0000 - val_mse: 127002384.0000 - val_mae: 8932.8057\n",
            "Epoch 29/200\n",
            "27/27 [==============================] - 0s 5ms/step - loss: 127591184.0000 - mse: 127591184.0000 - mae: 8842.7734 - val_loss: 126292984.0000 - val_mse: 126292984.0000 - val_mae: 8817.2031\n",
            "Epoch 30/200\n",
            "27/27 [==============================] - 0s 4ms/step - loss: 120526304.0000 - mse: 120526304.0000 - mae: 8572.9609 - val_loss: 125851664.0000 - val_mse: 125851664.0000 - val_mae: 8975.6719\n",
            "Epoch 31/200\n",
            "27/27 [==============================] - 0s 4ms/step - loss: 123160752.0000 - mse: 123160752.0000 - mae: 8840.2217 - val_loss: 125026888.0000 - val_mse: 125026888.0000 - val_mae: 8884.3398\n",
            "Epoch 32/200\n",
            "27/27 [==============================] - 0s 4ms/step - loss: 119002808.0000 - mse: 119002808.0000 - mae: 8757.8320 - val_loss: 123986072.0000 - val_mse: 123986072.0000 - val_mae: 8735.1943\n",
            "Epoch 33/200\n",
            "27/27 [==============================] - 0s 4ms/step - loss: 116519432.0000 - mse: 116519432.0000 - mae: 8427.8076 - val_loss: 123622496.0000 - val_mse: 123622496.0000 - val_mae: 9044.3398\n",
            "Epoch 34/200\n",
            "27/27 [==============================] - 0s 4ms/step - loss: 120824896.0000 - mse: 120824896.0000 - mae: 8535.3555 - val_loss: 122180840.0000 - val_mse: 122180840.0000 - val_mae: 8867.2227\n",
            "Epoch 35/200\n",
            "27/27 [==============================] - 0s 4ms/step - loss: 118041464.0000 - mse: 118041464.0000 - mae: 8664.0068 - val_loss: 120806896.0000 - val_mse: 120806896.0000 - val_mae: 8608.9639\n",
            "Epoch 36/200\n",
            "27/27 [==============================] - 0s 4ms/step - loss: 116958368.0000 - mse: 116958368.0000 - mae: 8374.1035 - val_loss: 120223856.0000 - val_mse: 120223856.0000 - val_mae: 8942.6670\n",
            "Epoch 37/200\n",
            "27/27 [==============================] - 0s 5ms/step - loss: 115123304.0000 - mse: 115123304.0000 - mae: 8715.6895 - val_loss: 118093176.0000 - val_mse: 118093176.0000 - val_mae: 8470.5566\n",
            "Epoch 38/200\n",
            "27/27 [==============================] - 0s 5ms/step - loss: 109267664.0000 - mse: 109267664.0000 - mae: 8007.1616 - val_loss: 116587096.0000 - val_mse: 116587096.0000 - val_mae: 8676.6152\n",
            "Epoch 39/200\n",
            "27/27 [==============================] - 0s 5ms/step - loss: 113197096.0000 - mse: 113197096.0000 - mae: 8316.1885 - val_loss: 114567208.0000 - val_mse: 114567208.0000 - val_mae: 8212.2725\n",
            "Epoch 40/200\n",
            "27/27 [==============================] - 0s 5ms/step - loss: 107466496.0000 - mse: 107466496.0000 - mae: 8197.8281 - val_loss: 112135792.0000 - val_mse: 112135792.0000 - val_mae: 8358.1172\n",
            "Epoch 41/200\n",
            "27/27 [==============================] - 0s 5ms/step - loss: 104182240.0000 - mse: 104182240.0000 - mae: 8170.8057 - val_loss: 109457344.0000 - val_mse: 109457344.0000 - val_mae: 8253.9482\n",
            "Epoch 42/200\n",
            "27/27 [==============================] - 0s 5ms/step - loss: 102623032.0000 - mse: 102623032.0000 - mae: 7912.4990 - val_loss: 106609088.0000 - val_mse: 106609088.0000 - val_mae: 7971.7832\n",
            "Epoch 43/200\n",
            "27/27 [==============================] - 0s 5ms/step - loss: 98400112.0000 - mse: 98400112.0000 - mae: 7515.2153 - val_loss: 106719680.0000 - val_mse: 106719680.0000 - val_mae: 8693.8652\n",
            "Epoch 44/200\n",
            "27/27 [==============================] - 0s 5ms/step - loss: 98075784.0000 - mse: 98075784.0000 - mae: 7720.9565 - val_loss: 99715688.0000 - val_mse: 99715688.0000 - val_mae: 7833.3159\n",
            "Epoch 45/200\n",
            "27/27 [==============================] - 0s 5ms/step - loss: 92026816.0000 - mse: 92026816.0000 - mae: 7361.1704 - val_loss: 96406328.0000 - val_mse: 96406328.0000 - val_mae: 7962.3271\n",
            "Epoch 46/200\n",
            "27/27 [==============================] - 0s 4ms/step - loss: 88623288.0000 - mse: 88623288.0000 - mae: 7198.5303 - val_loss: 92761872.0000 - val_mse: 92761872.0000 - val_mae: 7979.5596\n",
            "Epoch 47/200\n",
            "27/27 [==============================] - 0s 4ms/step - loss: 78323896.0000 - mse: 78323896.0000 - mae: 6860.3008 - val_loss: 85182968.0000 - val_mse: 85182968.0000 - val_mae: 6742.0117\n",
            "Epoch 48/200\n",
            "27/27 [==============================] - 0s 3ms/step - loss: 72478192.0000 - mse: 72478192.0000 - mae: 6331.8218 - val_loss: 81560432.0000 - val_mse: 81560432.0000 - val_mae: 7492.6816\n",
            "Epoch 49/200\n",
            "27/27 [==============================] - 0s 4ms/step - loss: 65693384.0000 - mse: 65693384.0000 - mae: 6206.0391 - val_loss: 73633592.0000 - val_mse: 73633592.0000 - val_mae: 6487.4258\n",
            "Epoch 50/200\n",
            "27/27 [==============================] - 0s 4ms/step - loss: 62313444.0000 - mse: 62313444.0000 - mae: 5941.0732 - val_loss: 68479888.0000 - val_mse: 68479888.0000 - val_mae: 5715.4521\n",
            "Epoch 51/200\n",
            "27/27 [==============================] - 0s 4ms/step - loss: 57104216.0000 - mse: 57104216.0000 - mae: 5526.5874 - val_loss: 63524064.0000 - val_mse: 63524064.0000 - val_mae: 5551.0205\n",
            "Epoch 52/200\n",
            "27/27 [==============================] - 0s 4ms/step - loss: 55688052.0000 - mse: 55688052.0000 - mae: 5499.0464 - val_loss: 59595940.0000 - val_mse: 59595940.0000 - val_mae: 5679.8369\n",
            "Epoch 53/200\n",
            "27/27 [==============================] - 0s 4ms/step - loss: 48912804.0000 - mse: 48912804.0000 - mae: 5164.9966 - val_loss: 57810088.0000 - val_mse: 57810088.0000 - val_mae: 5092.7422\n",
            "Epoch 54/200\n",
            "27/27 [==============================] - 0s 4ms/step - loss: 50226352.0000 - mse: 50226352.0000 - mae: 5174.3799 - val_loss: 54474604.0000 - val_mse: 54474604.0000 - val_mae: 5161.2324\n",
            "Epoch 55/200\n",
            "27/27 [==============================] - 0s 4ms/step - loss: 49977828.0000 - mse: 49977828.0000 - mae: 4897.0229 - val_loss: 52671708.0000 - val_mse: 52671708.0000 - val_mae: 5307.7642\n",
            "Epoch 56/200\n",
            "27/27 [==============================] - 0s 4ms/step - loss: 50550980.0000 - mse: 50550980.0000 - mae: 5019.9248 - val_loss: 52516484.0000 - val_mse: 52516484.0000 - val_mae: 5375.8335\n",
            "Epoch 57/200\n",
            "27/27 [==============================] - 0s 4ms/step - loss: 47296516.0000 - mse: 47296516.0000 - mae: 4902.8252 - val_loss: 50693224.0000 - val_mse: 50693224.0000 - val_mae: 5045.9556\n",
            "Epoch 58/200\n",
            "27/27 [==============================] - 0s 4ms/step - loss: 45193608.0000 - mse: 45193608.0000 - mae: 4717.4238 - val_loss: 50688300.0000 - val_mse: 50688300.0000 - val_mae: 4571.7046\n",
            "Epoch 59/200\n",
            "27/27 [==============================] - 0s 4ms/step - loss: 46921860.0000 - mse: 46921860.0000 - mae: 4765.5781 - val_loss: 50376516.0000 - val_mse: 50376516.0000 - val_mae: 4664.0977\n",
            "Epoch 60/200\n",
            "27/27 [==============================] - 0s 4ms/step - loss: 48375512.0000 - mse: 48375512.0000 - mae: 4822.4741 - val_loss: 49867512.0000 - val_mse: 49867512.0000 - val_mae: 5373.9224\n",
            "Epoch 61/200\n",
            "27/27 [==============================] - 0s 5ms/step - loss: 48046304.0000 - mse: 48046304.0000 - mae: 4780.9419 - val_loss: 51427052.0000 - val_mse: 51427052.0000 - val_mae: 5700.5796\n",
            "Epoch 62/200\n",
            "27/27 [==============================] - 0s 4ms/step - loss: 44987108.0000 - mse: 44987108.0000 - mae: 4552.6279 - val_loss: 48512268.0000 - val_mse: 48512268.0000 - val_mae: 4921.8301\n",
            "Epoch 63/200\n",
            "27/27 [==============================] - 0s 5ms/step - loss: 45854468.0000 - mse: 45854468.0000 - mae: 4563.6318 - val_loss: 47969748.0000 - val_mse: 47969748.0000 - val_mae: 4504.8252\n",
            "Epoch 64/200\n",
            "27/27 [==============================] - 0s 5ms/step - loss: 45906940.0000 - mse: 45906940.0000 - mae: 4640.4355 - val_loss: 49572456.0000 - val_mse: 49572456.0000 - val_mae: 4246.8628\n",
            "Epoch 65/200\n",
            "27/27 [==============================] - 0s 4ms/step - loss: 45457292.0000 - mse: 45457292.0000 - mae: 4579.0308 - val_loss: 47513496.0000 - val_mse: 47513496.0000 - val_mae: 4693.9751\n",
            "Epoch 66/200\n",
            "27/27 [==============================] - 0s 5ms/step - loss: 44089108.0000 - mse: 44089108.0000 - mae: 4555.1064 - val_loss: 47354124.0000 - val_mse: 47354124.0000 - val_mae: 4658.1284\n",
            "Epoch 67/200\n",
            "27/27 [==============================] - 0s 4ms/step - loss: 44619772.0000 - mse: 44619772.0000 - mae: 4448.8188 - val_loss: 47580144.0000 - val_mse: 47580144.0000 - val_mae: 4428.7090\n",
            "Epoch 68/200\n",
            "27/27 [==============================] - 0s 5ms/step - loss: 44109588.0000 - mse: 44109588.0000 - mae: 4513.8232 - val_loss: 47695096.0000 - val_mse: 47695096.0000 - val_mae: 5018.1470\n",
            "Epoch 69/200\n",
            "27/27 [==============================] - 0s 5ms/step - loss: 43366864.0000 - mse: 43366864.0000 - mae: 4519.5181 - val_loss: 47084816.0000 - val_mse: 47084816.0000 - val_mae: 4236.7441\n",
            "Epoch 70/200\n",
            "27/27 [==============================] - 0s 4ms/step - loss: 45584328.0000 - mse: 45584328.0000 - mae: 4623.7563 - val_loss: 46803580.0000 - val_mse: 46803576.0000 - val_mae: 4288.7803\n",
            "Epoch 71/200\n",
            "27/27 [==============================] - 0s 5ms/step - loss: 46129988.0000 - mse: 46129988.0000 - mae: 4633.8115 - val_loss: 47027240.0000 - val_mse: 47027240.0000 - val_mae: 4341.0610\n",
            "Epoch 72/200\n",
            "27/27 [==============================] - 0s 5ms/step - loss: 42777504.0000 - mse: 42777504.0000 - mae: 4421.8936 - val_loss: 46944264.0000 - val_mse: 46944264.0000 - val_mae: 4105.0659\n",
            "Epoch 73/200\n",
            "27/27 [==============================] - 0s 5ms/step - loss: 44493280.0000 - mse: 44493280.0000 - mae: 4569.0322 - val_loss: 47223144.0000 - val_mse: 47223144.0000 - val_mae: 4102.8696\n",
            "Epoch 74/200\n",
            "27/27 [==============================] - 0s 5ms/step - loss: 45487100.0000 - mse: 45487100.0000 - mae: 4550.3345 - val_loss: 45987408.0000 - val_mse: 45987408.0000 - val_mae: 4538.5264\n",
            "Epoch 75/200\n",
            "27/27 [==============================] - 0s 4ms/step - loss: 39329616.0000 - mse: 39329616.0000 - mae: 4264.9541 - val_loss: 48046876.0000 - val_mse: 48046876.0000 - val_mae: 3979.1162\n",
            "Epoch 76/200\n",
            "27/27 [==============================] - 0s 4ms/step - loss: 41957352.0000 - mse: 41957352.0000 - mae: 4354.9067 - val_loss: 45818708.0000 - val_mse: 45818708.0000 - val_mae: 4658.5542\n",
            "Epoch 77/200\n",
            "27/27 [==============================] - 0s 4ms/step - loss: 42319196.0000 - mse: 42319196.0000 - mae: 4287.3979 - val_loss: 46632392.0000 - val_mse: 46632392.0000 - val_mae: 4007.3689\n",
            "Epoch 78/200\n",
            "27/27 [==============================] - 0s 4ms/step - loss: 42867800.0000 - mse: 42867800.0000 - mae: 4349.7231 - val_loss: 45893420.0000 - val_mse: 45893420.0000 - val_mae: 4653.3384\n",
            "Epoch 79/200\n",
            "27/27 [==============================] - 0s 4ms/step - loss: 45591992.0000 - mse: 45591992.0000 - mae: 4590.7920 - val_loss: 45573948.0000 - val_mse: 45573948.0000 - val_mae: 4330.8491\n",
            "Epoch 80/200\n",
            "27/27 [==============================] - 0s 4ms/step - loss: 42642596.0000 - mse: 42642596.0000 - mae: 4332.0259 - val_loss: 45147288.0000 - val_mse: 45147284.0000 - val_mae: 4292.5127\n",
            "Epoch 81/200\n",
            "27/27 [==============================] - 0s 4ms/step - loss: 42696792.0000 - mse: 42696792.0000 - mae: 4343.4648 - val_loss: 46911968.0000 - val_mse: 46911968.0000 - val_mae: 3982.3425\n",
            "Epoch 82/200\n",
            "27/27 [==============================] - 0s 4ms/step - loss: 45333864.0000 - mse: 45333864.0000 - mae: 4489.2080 - val_loss: 45390352.0000 - val_mse: 45390352.0000 - val_mae: 4525.3687\n",
            "Epoch 83/200\n",
            "27/27 [==============================] - 0s 4ms/step - loss: 40920216.0000 - mse: 40920216.0000 - mae: 4349.7251 - val_loss: 45311300.0000 - val_mse: 45311300.0000 - val_mae: 4385.7568\n",
            "Epoch 84/200\n",
            "27/27 [==============================] - 0s 4ms/step - loss: 41218436.0000 - mse: 41218436.0000 - mae: 4223.1206 - val_loss: 45562588.0000 - val_mse: 45562588.0000 - val_mae: 4264.2588\n",
            "Epoch 85/200\n",
            "27/27 [==============================] - 0s 4ms/step - loss: 41636968.0000 - mse: 41636968.0000 - mae: 4164.3877 - val_loss: 45927976.0000 - val_mse: 45927976.0000 - val_mae: 4209.0386\n",
            "Epoch 86/200\n",
            "27/27 [==============================] - 0s 4ms/step - loss: 40480044.0000 - mse: 40480044.0000 - mae: 4269.1172 - val_loss: 46602212.0000 - val_mse: 46602212.0000 - val_mae: 4049.0820\n",
            "Epoch 87/200\n",
            "27/27 [==============================] - 0s 5ms/step - loss: 41809296.0000 - mse: 41809296.0000 - mae: 4346.0078 - val_loss: 45513744.0000 - val_mse: 45513744.0000 - val_mae: 4237.3936\n",
            "Epoch 88/200\n",
            "27/27 [==============================] - 0s 5ms/step - loss: 41788156.0000 - mse: 41788156.0000 - mae: 4312.0811 - val_loss: 47120976.0000 - val_mse: 47120976.0000 - val_mae: 3972.4990\n",
            "Epoch 89/200\n",
            "27/27 [==============================] - 0s 5ms/step - loss: 44679760.0000 - mse: 44679760.0000 - mae: 4588.8394 - val_loss: 45077012.0000 - val_mse: 45077012.0000 - val_mae: 4250.9243\n",
            "Epoch 90/200\n",
            "27/27 [==============================] - 0s 5ms/step - loss: 41894380.0000 - mse: 41894380.0000 - mae: 4270.9429 - val_loss: 47391524.0000 - val_mse: 47391524.0000 - val_mae: 3836.0283\n",
            "Epoch 91/200\n",
            "27/27 [==============================] - 0s 5ms/step - loss: 40381168.0000 - mse: 40381168.0000 - mae: 4130.5146 - val_loss: 45099904.0000 - val_mse: 45099904.0000 - val_mae: 4259.2266\n",
            "Epoch 92/200\n",
            "27/27 [==============================] - 0s 5ms/step - loss: 41306828.0000 - mse: 41306828.0000 - mae: 4290.2764 - val_loss: 45479456.0000 - val_mse: 45479456.0000 - val_mae: 4162.2739\n",
            "Epoch 93/200\n",
            "27/27 [==============================] - 0s 5ms/step - loss: 39004296.0000 - mse: 39004296.0000 - mae: 4177.5488 - val_loss: 45737724.0000 - val_mse: 45737724.0000 - val_mae: 4127.6548\n",
            "Epoch 94/200\n",
            "27/27 [==============================] - 0s 5ms/step - loss: 41001036.0000 - mse: 41001036.0000 - mae: 4246.3804 - val_loss: 45472724.0000 - val_mse: 45472724.0000 - val_mae: 4029.7903\n",
            "Epoch 95/200\n",
            "27/27 [==============================] - 0s 5ms/step - loss: 43089140.0000 - mse: 43089140.0000 - mae: 4379.8442 - val_loss: 49336612.0000 - val_mse: 49336616.0000 - val_mae: 3944.6702\n",
            "Epoch 96/200\n",
            "27/27 [==============================] - 0s 5ms/step - loss: 42136132.0000 - mse: 42136132.0000 - mae: 4230.5664 - val_loss: 44706008.0000 - val_mse: 44706008.0000 - val_mae: 4156.0078\n",
            "Epoch 97/200\n",
            "27/27 [==============================] - 0s 5ms/step - loss: 42628292.0000 - mse: 42628292.0000 - mae: 4430.9800 - val_loss: 44788460.0000 - val_mse: 44788460.0000 - val_mae: 4284.7871\n",
            "Epoch 98/200\n",
            "27/27 [==============================] - 0s 5ms/step - loss: 41641772.0000 - mse: 41641772.0000 - mae: 4301.2803 - val_loss: 44733692.0000 - val_mse: 44733692.0000 - val_mae: 4306.4653\n",
            "Epoch 99/200\n",
            "27/27 [==============================] - 0s 6ms/step - loss: 41293652.0000 - mse: 41293652.0000 - mae: 4240.7354 - val_loss: 45130640.0000 - val_mse: 45130640.0000 - val_mae: 3964.3542\n",
            "Epoch 100/200\n",
            "27/27 [==============================] - 0s 5ms/step - loss: 39323340.0000 - mse: 39323340.0000 - mae: 4221.1797 - val_loss: 44186624.0000 - val_mse: 44186624.0000 - val_mae: 4366.0181\n",
            "Epoch 101/200\n",
            "27/27 [==============================] - 0s 6ms/step - loss: 40433228.0000 - mse: 40433228.0000 - mae: 4173.7495 - val_loss: 44586788.0000 - val_mse: 44586788.0000 - val_mae: 4473.4312\n",
            "Epoch 102/200\n",
            "27/27 [==============================] - 0s 6ms/step - loss: 41027316.0000 - mse: 41027316.0000 - mae: 4214.0356 - val_loss: 44492460.0000 - val_mse: 44492460.0000 - val_mae: 4559.7837\n",
            "Epoch 103/200\n",
            "27/27 [==============================] - 0s 6ms/step - loss: 41108928.0000 - mse: 41108928.0000 - mae: 4302.5840 - val_loss: 46138352.0000 - val_mse: 46138352.0000 - val_mae: 4944.9902\n",
            "Epoch 104/200\n",
            "27/27 [==============================] - 0s 5ms/step - loss: 43012748.0000 - mse: 43012748.0000 - mae: 4371.1958 - val_loss: 44118012.0000 - val_mse: 44118012.0000 - val_mae: 4342.2334\n",
            "Epoch 105/200\n",
            "27/27 [==============================] - 0s 6ms/step - loss: 41375324.0000 - mse: 41375324.0000 - mae: 4254.7437 - val_loss: 45015560.0000 - val_mse: 45015560.0000 - val_mae: 3968.8362\n",
            "Epoch 106/200\n",
            "27/27 [==============================] - 0s 5ms/step - loss: 40033020.0000 - mse: 40033020.0000 - mae: 4120.1372 - val_loss: 44600340.0000 - val_mse: 44600340.0000 - val_mae: 3962.6121\n",
            "Epoch 107/200\n",
            "27/27 [==============================] - 0s 5ms/step - loss: 40956568.0000 - mse: 40956568.0000 - mae: 4234.1646 - val_loss: 44069892.0000 - val_mse: 44069892.0000 - val_mae: 4391.6304\n",
            "Epoch 108/200\n",
            "27/27 [==============================] - 0s 6ms/step - loss: 39802712.0000 - mse: 39802712.0000 - mae: 4239.3584 - val_loss: 44125620.0000 - val_mse: 44125620.0000 - val_mae: 4145.7817\n",
            "Epoch 109/200\n",
            "27/27 [==============================] - 0s 6ms/step - loss: 41206988.0000 - mse: 41206988.0000 - mae: 4225.3936 - val_loss: 44292724.0000 - val_mse: 44292724.0000 - val_mae: 4262.6602\n",
            "Epoch 110/200\n",
            "27/27 [==============================] - 0s 5ms/step - loss: 41238216.0000 - mse: 41238216.0000 - mae: 4185.4023 - val_loss: 44553200.0000 - val_mse: 44553200.0000 - val_mae: 4147.2715\n",
            "Epoch 111/200\n",
            "27/27 [==============================] - 0s 5ms/step - loss: 39309784.0000 - mse: 39309784.0000 - mae: 4198.2334 - val_loss: 44387576.0000 - val_mse: 44387576.0000 - val_mae: 4116.4839\n",
            "Epoch 112/200\n",
            "27/27 [==============================] - 0s 6ms/step - loss: 40928592.0000 - mse: 40928592.0000 - mae: 4201.6074 - val_loss: 44304912.0000 - val_mse: 44304912.0000 - val_mae: 4026.3284\n",
            "Epoch 113/200\n",
            "27/27 [==============================] - 0s 5ms/step - loss: 38738732.0000 - mse: 38738732.0000 - mae: 4127.4712 - val_loss: 44744880.0000 - val_mse: 44744880.0000 - val_mae: 3896.1921\n",
            "Epoch 114/200\n",
            "27/27 [==============================] - 0s 5ms/step - loss: 39018572.0000 - mse: 39018572.0000 - mae: 4178.4072 - val_loss: 43925500.0000 - val_mse: 43925500.0000 - val_mae: 4324.7402\n",
            "Epoch 115/200\n",
            "27/27 [==============================] - 0s 5ms/step - loss: 39400332.0000 - mse: 39400332.0000 - mae: 4237.5752 - val_loss: 44361700.0000 - val_mse: 44361700.0000 - val_mae: 3950.0347\n",
            "Epoch 116/200\n",
            "27/27 [==============================] - 0s 6ms/step - loss: 39537240.0000 - mse: 39537240.0000 - mae: 4125.7485 - val_loss: 44621136.0000 - val_mse: 44621136.0000 - val_mae: 3875.5366\n",
            "Epoch 117/200\n",
            "27/27 [==============================] - 0s 6ms/step - loss: 41846176.0000 - mse: 41846176.0000 - mae: 4176.1104 - val_loss: 45347236.0000 - val_mse: 45347236.0000 - val_mae: 3996.5071\n",
            "Epoch 118/200\n",
            "27/27 [==============================] - 0s 6ms/step - loss: 38996616.0000 - mse: 38996616.0000 - mae: 4238.8496 - val_loss: 44261672.0000 - val_mse: 44261672.0000 - val_mae: 4178.8452\n",
            "Epoch 119/200\n",
            "27/27 [==============================] - 0s 5ms/step - loss: 42376588.0000 - mse: 42376588.0000 - mae: 4285.7598 - val_loss: 43957808.0000 - val_mse: 43957808.0000 - val_mae: 4008.7024\n",
            "Epoch 120/200\n",
            "27/27 [==============================] - 0s 4ms/step - loss: 45390608.0000 - mse: 45390608.0000 - mae: 4325.9497 - val_loss: 43777552.0000 - val_mse: 43777552.0000 - val_mae: 4465.1528\n",
            "Epoch 121/200\n",
            "27/27 [==============================] - 0s 4ms/step - loss: 40714868.0000 - mse: 40714868.0000 - mae: 4249.4619 - val_loss: 43904528.0000 - val_mse: 43904528.0000 - val_mae: 4119.9121\n",
            "Epoch 122/200\n",
            "27/27 [==============================] - 0s 4ms/step - loss: 39099460.0000 - mse: 39099460.0000 - mae: 4022.0713 - val_loss: 43537340.0000 - val_mse: 43537340.0000 - val_mae: 4244.1284\n",
            "Epoch 123/200\n",
            "27/27 [==============================] - 0s 5ms/step - loss: 37904596.0000 - mse: 37904596.0000 - mae: 4111.3638 - val_loss: 44656912.0000 - val_mse: 44656912.0000 - val_mae: 3793.5684\n",
            "Epoch 124/200\n",
            "27/27 [==============================] - 0s 4ms/step - loss: 36880376.0000 - mse: 36880376.0000 - mae: 3961.5627 - val_loss: 43974524.0000 - val_mse: 43974524.0000 - val_mae: 4441.5234\n",
            "Epoch 125/200\n",
            "27/27 [==============================] - 0s 4ms/step - loss: 39891960.0000 - mse: 39891960.0000 - mae: 4196.4102 - val_loss: 43959704.0000 - val_mse: 43959704.0000 - val_mae: 4569.2739\n",
            "Epoch 126/200\n",
            "27/27 [==============================] - 0s 4ms/step - loss: 40300156.0000 - mse: 40300156.0000 - mae: 4147.9321 - val_loss: 44265424.0000 - val_mse: 44265424.0000 - val_mae: 4563.8901\n",
            "Epoch 127/200\n",
            "27/27 [==============================] - 0s 4ms/step - loss: 41033356.0000 - mse: 41033356.0000 - mae: 4221.5752 - val_loss: 44135376.0000 - val_mse: 44135376.0000 - val_mae: 4419.0679\n",
            "Epoch 128/200\n",
            "27/27 [==============================] - 0s 6ms/step - loss: 41925880.0000 - mse: 41925880.0000 - mae: 4244.1982 - val_loss: 44527740.0000 - val_mse: 44527740.0000 - val_mae: 3982.3547\n",
            "Epoch 129/200\n",
            "27/27 [==============================] - 0s 6ms/step - loss: 38740496.0000 - mse: 38740496.0000 - mae: 4114.8911 - val_loss: 44893356.0000 - val_mse: 44893356.0000 - val_mae: 3830.2913\n",
            "Epoch 130/200\n",
            "27/27 [==============================] - 0s 5ms/step - loss: 39999056.0000 - mse: 39999056.0000 - mae: 4043.4326 - val_loss: 43810888.0000 - val_mse: 43810888.0000 - val_mae: 4322.4736\n",
            "Epoch 131/200\n",
            "27/27 [==============================] - 0s 6ms/step - loss: 42223668.0000 - mse: 42223668.0000 - mae: 4350.6973 - val_loss: 43979284.0000 - val_mse: 43979284.0000 - val_mae: 4580.6748\n",
            "Epoch 132/200\n",
            "27/27 [==============================] - 0s 5ms/step - loss: 41680704.0000 - mse: 41680704.0000 - mae: 4311.5176 - val_loss: 43369524.0000 - val_mse: 43369524.0000 - val_mae: 4311.7515\n",
            "Epoch 133/200\n",
            "27/27 [==============================] - 0s 6ms/step - loss: 38459212.0000 - mse: 38459212.0000 - mae: 4119.6729 - val_loss: 43390172.0000 - val_mse: 43390172.0000 - val_mae: 3939.8047\n",
            "Epoch 134/200\n",
            "27/27 [==============================] - 0s 4ms/step - loss: 38594140.0000 - mse: 38594140.0000 - mae: 4132.9214 - val_loss: 43590044.0000 - val_mse: 43590044.0000 - val_mae: 4022.7056\n",
            "Epoch 135/200\n",
            "27/27 [==============================] - 0s 4ms/step - loss: 41077800.0000 - mse: 41077800.0000 - mae: 4356.6426 - val_loss: 43128444.0000 - val_mse: 43128444.0000 - val_mae: 4250.0137\n",
            "Epoch 136/200\n",
            "27/27 [==============================] - 0s 5ms/step - loss: 40301668.0000 - mse: 40301668.0000 - mae: 4166.6323 - val_loss: 43629080.0000 - val_mse: 43629080.0000 - val_mae: 3944.9944\n",
            "Epoch 137/200\n",
            "27/27 [==============================] - 0s 4ms/step - loss: 41002104.0000 - mse: 41002104.0000 - mae: 4276.6875 - val_loss: 44557692.0000 - val_mse: 44557692.0000 - val_mae: 3816.1799\n",
            "Epoch 138/200\n",
            "27/27 [==============================] - 0s 5ms/step - loss: 39928032.0000 - mse: 39928032.0000 - mae: 4065.3330 - val_loss: 43290264.0000 - val_mse: 43290264.0000 - val_mae: 3933.8142\n",
            "Epoch 139/200\n",
            "27/27 [==============================] - 0s 4ms/step - loss: 38242740.0000 - mse: 38242740.0000 - mae: 4114.9634 - val_loss: 43590040.0000 - val_mse: 43590032.0000 - val_mae: 3927.5940\n",
            "Epoch 140/200\n",
            "27/27 [==============================] - 0s 4ms/step - loss: 42247556.0000 - mse: 42247556.0000 - mae: 4233.1743 - val_loss: 43180616.0000 - val_mse: 43180616.0000 - val_mae: 3947.9775\n",
            "Epoch 141/200\n",
            "27/27 [==============================] - 0s 4ms/step - loss: 36039068.0000 - mse: 36039068.0000 - mae: 3822.9788 - val_loss: 43059404.0000 - val_mse: 43059404.0000 - val_mae: 4264.2383\n",
            "Epoch 142/200\n",
            "27/27 [==============================] - 0s 4ms/step - loss: 38908820.0000 - mse: 38908820.0000 - mae: 4120.9600 - val_loss: 44303412.0000 - val_mse: 44303412.0000 - val_mae: 4768.5161\n",
            "Epoch 143/200\n",
            "27/27 [==============================] - 0s 5ms/step - loss: 40101736.0000 - mse: 40101736.0000 - mae: 4222.9731 - val_loss: 43480544.0000 - val_mse: 43480544.0000 - val_mae: 4649.1587\n",
            "Epoch 144/200\n",
            "27/27 [==============================] - 0s 6ms/step - loss: 40856356.0000 - mse: 40856356.0000 - mae: 4321.6357 - val_loss: 43072504.0000 - val_mse: 43072504.0000 - val_mae: 4292.2480\n",
            "Epoch 145/200\n",
            "27/27 [==============================] - 0s 6ms/step - loss: 41083756.0000 - mse: 41083756.0000 - mae: 4225.8438 - val_loss: 42994352.0000 - val_mse: 42994352.0000 - val_mae: 4288.0864\n",
            "Epoch 146/200\n",
            "27/27 [==============================] - 0s 6ms/step - loss: 37932768.0000 - mse: 37932768.0000 - mae: 4048.5608 - val_loss: 42937104.0000 - val_mse: 42937104.0000 - val_mae: 4080.6230\n",
            "Epoch 147/200\n",
            "27/27 [==============================] - 0s 6ms/step - loss: 38341468.0000 - mse: 38341468.0000 - mae: 4103.8325 - val_loss: 42656848.0000 - val_mse: 42656848.0000 - val_mae: 4316.6855\n",
            "Epoch 148/200\n",
            "27/27 [==============================] - 0s 6ms/step - loss: 41212128.0000 - mse: 41212128.0000 - mae: 4254.7876 - val_loss: 43681676.0000 - val_mse: 43681676.0000 - val_mae: 3716.1357\n",
            "Epoch 149/200\n",
            "27/27 [==============================] - 0s 6ms/step - loss: 37771084.0000 - mse: 37771084.0000 - mae: 4013.2844 - val_loss: 45725580.0000 - val_mse: 45725580.0000 - val_mae: 3664.9558\n",
            "Epoch 150/200\n",
            "27/27 [==============================] - 0s 7ms/step - loss: 41353440.0000 - mse: 41353440.0000 - mae: 4184.1997 - val_loss: 43830416.0000 - val_mse: 43830416.0000 - val_mae: 3795.9871\n",
            "Epoch 151/200\n",
            "27/27 [==============================] - 0s 6ms/step - loss: 42168316.0000 - mse: 42168316.0000 - mae: 4257.0586 - val_loss: 44480836.0000 - val_mse: 44480836.0000 - val_mae: 3778.5583\n",
            "Epoch 152/200\n",
            "27/27 [==============================] - 0s 6ms/step - loss: 39163344.0000 - mse: 39163344.0000 - mae: 4098.3872 - val_loss: 42480708.0000 - val_mse: 42480708.0000 - val_mae: 4136.0234\n",
            "Epoch 153/200\n",
            "27/27 [==============================] - 0s 6ms/step - loss: 38037512.0000 - mse: 38037512.0000 - mae: 4101.5698 - val_loss: 44532712.0000 - val_mse: 44532712.0000 - val_mae: 3712.0808\n",
            "Epoch 154/200\n",
            "27/27 [==============================] - 0s 7ms/step - loss: 35260248.0000 - mse: 35260248.0000 - mae: 3926.6274 - val_loss: 42619900.0000 - val_mse: 42619900.0000 - val_mae: 4338.3784\n",
            "Epoch 155/200\n",
            "27/27 [==============================] - 0s 6ms/step - loss: 38295532.0000 - mse: 38295532.0000 - mae: 4051.4021 - val_loss: 42866736.0000 - val_mse: 42866736.0000 - val_mae: 4633.6470\n",
            "Epoch 156/200\n",
            "27/27 [==============================] - 0s 6ms/step - loss: 39038944.0000 - mse: 39038944.0000 - mae: 4126.2476 - val_loss: 42627976.0000 - val_mse: 42627976.0000 - val_mae: 4192.6211\n",
            "Epoch 157/200\n",
            "27/27 [==============================] - 0s 6ms/step - loss: 39870688.0000 - mse: 39870688.0000 - mae: 4211.7549 - val_loss: 42364824.0000 - val_mse: 42364824.0000 - val_mae: 4431.0732\n",
            "Epoch 158/200\n",
            "27/27 [==============================] - 0s 6ms/step - loss: 38996608.0000 - mse: 38996608.0000 - mae: 4166.8359 - val_loss: 42251108.0000 - val_mse: 42251108.0000 - val_mae: 4009.0522\n",
            "Epoch 159/200\n",
            "27/27 [==============================] - 0s 7ms/step - loss: 40618888.0000 - mse: 40618888.0000 - mae: 4089.2251 - val_loss: 43205464.0000 - val_mse: 43205464.0000 - val_mae: 3883.8582\n",
            "Epoch 160/200\n",
            "27/27 [==============================] - 0s 6ms/step - loss: 38930436.0000 - mse: 38930436.0000 - mae: 4130.3628 - val_loss: 42463520.0000 - val_mse: 42463520.0000 - val_mae: 4335.1128\n",
            "Epoch 161/200\n",
            "27/27 [==============================] - 0s 9ms/step - loss: 39027556.0000 - mse: 39027556.0000 - mae: 4184.0830 - val_loss: 42802332.0000 - val_mse: 42802340.0000 - val_mae: 3774.9585\n",
            "Epoch 162/200\n",
            "27/27 [==============================] - 0s 6ms/step - loss: 37682108.0000 - mse: 37682108.0000 - mae: 4018.7634 - val_loss: 43851084.0000 - val_mse: 43851084.0000 - val_mae: 3736.3984\n",
            "Epoch 163/200\n",
            "27/27 [==============================] - 0s 9ms/step - loss: 37078132.0000 - mse: 37078132.0000 - mae: 4104.8638 - val_loss: 43585152.0000 - val_mse: 43585152.0000 - val_mae: 3781.4097\n",
            "Epoch 164/200\n",
            "27/27 [==============================] - 0s 7ms/step - loss: 36694628.0000 - mse: 36694628.0000 - mae: 3995.5718 - val_loss: 42229272.0000 - val_mse: 42229272.0000 - val_mae: 4242.9902\n",
            "Epoch 165/200\n",
            "27/27 [==============================] - 0s 6ms/step - loss: 37942176.0000 - mse: 37942176.0000 - mae: 3999.9819 - val_loss: 44423704.0000 - val_mse: 44423704.0000 - val_mae: 3703.1543\n",
            "Epoch 166/200\n",
            "27/27 [==============================] - 0s 7ms/step - loss: 39637224.0000 - mse: 39637224.0000 - mae: 4203.8667 - val_loss: 42871676.0000 - val_mse: 42871676.0000 - val_mae: 3828.5049\n",
            "Epoch 167/200\n",
            "27/27 [==============================] - 0s 6ms/step - loss: 40786380.0000 - mse: 40786380.0000 - mae: 4176.9971 - val_loss: 42723928.0000 - val_mse: 42723928.0000 - val_mae: 3736.2966\n",
            "Epoch 168/200\n",
            "27/27 [==============================] - 0s 6ms/step - loss: 37012636.0000 - mse: 37012636.0000 - mae: 3925.2991 - val_loss: 42507380.0000 - val_mse: 42507380.0000 - val_mae: 3999.9644\n",
            "Epoch 169/200\n",
            "27/27 [==============================] - 0s 7ms/step - loss: 37702108.0000 - mse: 37702108.0000 - mae: 4158.2534 - val_loss: 42138088.0000 - val_mse: 42138088.0000 - val_mae: 3960.0771\n",
            "Epoch 170/200\n",
            "27/27 [==============================] - 0s 6ms/step - loss: 37510820.0000 - mse: 37510820.0000 - mae: 3970.6633 - val_loss: 42142640.0000 - val_mse: 42142640.0000 - val_mae: 3938.8523\n",
            "Epoch 171/200\n",
            "27/27 [==============================] - 0s 6ms/step - loss: 39859468.0000 - mse: 39859468.0000 - mae: 4075.0369 - val_loss: 43262076.0000 - val_mse: 43262076.0000 - val_mae: 3757.7886\n",
            "Epoch 172/200\n",
            "27/27 [==============================] - 0s 7ms/step - loss: 37778368.0000 - mse: 37778368.0000 - mae: 4198.4263 - val_loss: 42299424.0000 - val_mse: 42299424.0000 - val_mae: 3894.6360\n",
            "Epoch 173/200\n",
            "27/27 [==============================] - 0s 6ms/step - loss: 38224620.0000 - mse: 38224620.0000 - mae: 3970.4744 - val_loss: 41860656.0000 - val_mse: 41860656.0000 - val_mae: 4084.9851\n",
            "Epoch 174/200\n",
            "27/27 [==============================] - 0s 6ms/step - loss: 37942912.0000 - mse: 37942912.0000 - mae: 4032.5518 - val_loss: 42626180.0000 - val_mse: 42626180.0000 - val_mae: 3891.0042\n",
            "Epoch 175/200\n",
            "27/27 [==============================] - 0s 6ms/step - loss: 37037464.0000 - mse: 37037464.0000 - mae: 4007.5295 - val_loss: 42188148.0000 - val_mse: 42188148.0000 - val_mae: 4300.5503\n",
            "Epoch 176/200\n",
            "27/27 [==============================] - 0s 7ms/step - loss: 41222992.0000 - mse: 41222992.0000 - mae: 4235.2178 - val_loss: 42037072.0000 - val_mse: 42037072.0000 - val_mae: 3926.3293\n",
            "Epoch 177/200\n",
            "27/27 [==============================] - 0s 9ms/step - loss: 38641380.0000 - mse: 38641380.0000 - mae: 3973.0476 - val_loss: 42376404.0000 - val_mse: 42376404.0000 - val_mae: 4620.6895\n",
            "Epoch 178/200\n",
            "27/27 [==============================] - 0s 6ms/step - loss: 41762972.0000 - mse: 41762972.0000 - mae: 4204.8589 - val_loss: 41782132.0000 - val_mse: 41782132.0000 - val_mae: 3974.9600\n",
            "Epoch 179/200\n",
            "27/27 [==============================] - 0s 6ms/step - loss: 36356192.0000 - mse: 36356192.0000 - mae: 3994.3357 - val_loss: 42215348.0000 - val_mse: 42215348.0000 - val_mae: 3802.1980\n",
            "Epoch 180/200\n",
            "27/27 [==============================] - 0s 6ms/step - loss: 36150444.0000 - mse: 36150444.0000 - mae: 3943.2827 - val_loss: 41688732.0000 - val_mse: 41688732.0000 - val_mae: 3916.8374\n",
            "Epoch 181/200\n",
            "27/27 [==============================] - 0s 5ms/step - loss: 40254976.0000 - mse: 40254976.0000 - mae: 4194.8115 - val_loss: 43121104.0000 - val_mse: 43121104.0000 - val_mae: 3611.9045\n",
            "Epoch 182/200\n",
            "27/27 [==============================] - 0s 4ms/step - loss: 37634856.0000 - mse: 37634856.0000 - mae: 4076.6577 - val_loss: 41734356.0000 - val_mse: 41734356.0000 - val_mae: 3959.0474\n",
            "Epoch 183/200\n",
            "27/27 [==============================] - 0s 5ms/step - loss: 36806920.0000 - mse: 36806920.0000 - mae: 3993.3506 - val_loss: 41834180.0000 - val_mse: 41834180.0000 - val_mae: 3752.3730\n",
            "Epoch 184/200\n",
            "27/27 [==============================] - 0s 4ms/step - loss: 38914484.0000 - mse: 38914484.0000 - mae: 4023.5598 - val_loss: 42038580.0000 - val_mse: 42038580.0000 - val_mae: 3797.2234\n",
            "Epoch 185/200\n",
            "27/27 [==============================] - 0s 4ms/step - loss: 37654544.0000 - mse: 37654544.0000 - mae: 4097.6245 - val_loss: 41658732.0000 - val_mse: 41658732.0000 - val_mae: 4153.8643\n",
            "Epoch 186/200\n",
            "27/27 [==============================] - 0s 4ms/step - loss: 38150440.0000 - mse: 38150440.0000 - mae: 3993.7466 - val_loss: 42466152.0000 - val_mse: 42466152.0000 - val_mae: 3693.3462\n",
            "Epoch 187/200\n",
            "27/27 [==============================] - 0s 4ms/step - loss: 41001696.0000 - mse: 41001696.0000 - mae: 4142.4111 - val_loss: 41940968.0000 - val_mse: 41940968.0000 - val_mae: 4165.8633\n",
            "Epoch 188/200\n",
            "27/27 [==============================] - 0s 5ms/step - loss: 36372008.0000 - mse: 36372008.0000 - mae: 4015.9402 - val_loss: 41786304.0000 - val_mse: 41786304.0000 - val_mae: 3858.8127\n",
            "Epoch 189/200\n",
            "27/27 [==============================] - 0s 4ms/step - loss: 38407472.0000 - mse: 38407472.0000 - mae: 4013.5269 - val_loss: 41355792.0000 - val_mse: 41355792.0000 - val_mae: 4097.2051\n",
            "Epoch 190/200\n",
            "27/27 [==============================] - 0s 5ms/step - loss: 38459496.0000 - mse: 38459496.0000 - mae: 4030.0984 - val_loss: 41549712.0000 - val_mse: 41549712.0000 - val_mae: 4234.6704\n",
            "Epoch 191/200\n",
            "27/27 [==============================] - 0s 7ms/step - loss: 39028912.0000 - mse: 39028912.0000 - mae: 4087.6758 - val_loss: 41890768.0000 - val_mse: 41890768.0000 - val_mae: 3808.3643\n",
            "Epoch 192/200\n",
            "27/27 [==============================] - 0s 10ms/step - loss: 37545124.0000 - mse: 37545124.0000 - mae: 4071.7615 - val_loss: 41474536.0000 - val_mse: 41474536.0000 - val_mae: 3966.4832\n",
            "Epoch 193/200\n",
            "27/27 [==============================] - 0s 9ms/step - loss: 39321096.0000 - mse: 39321096.0000 - mae: 4071.0220 - val_loss: 41162420.0000 - val_mse: 41162420.0000 - val_mae: 3944.2036\n",
            "Epoch 194/200\n",
            "27/27 [==============================] - 0s 13ms/step - loss: 37649696.0000 - mse: 37649696.0000 - mae: 4072.3018 - val_loss: 41417268.0000 - val_mse: 41417268.0000 - val_mae: 3795.0193\n",
            "Epoch 195/200\n",
            "27/27 [==============================] - 0s 13ms/step - loss: 37277288.0000 - mse: 37277288.0000 - mae: 3979.0413 - val_loss: 41072252.0000 - val_mse: 41072252.0000 - val_mae: 3846.3315\n",
            "Epoch 196/200\n",
            "27/27 [==============================] - 0s 12ms/step - loss: 37739904.0000 - mse: 37739904.0000 - mae: 3947.0710 - val_loss: 41434224.0000 - val_mse: 41434216.0000 - val_mae: 3753.1802\n",
            "Epoch 197/200\n",
            "27/27 [==============================] - 0s 10ms/step - loss: 35450192.0000 - mse: 35450192.0000 - mae: 3889.6907 - val_loss: 40957048.0000 - val_mse: 40957048.0000 - val_mae: 4164.1504\n",
            "Epoch 198/200\n",
            "27/27 [==============================] - 0s 11ms/step - loss: 39883236.0000 - mse: 39883236.0000 - mae: 4230.7700 - val_loss: 41718452.0000 - val_mse: 41718452.0000 - val_mae: 3764.0491\n",
            "Epoch 199/200\n",
            "27/27 [==============================] - 0s 12ms/step - loss: 38717660.0000 - mse: 38717660.0000 - mae: 4055.0525 - val_loss: 40926676.0000 - val_mse: 40926676.0000 - val_mae: 4115.7603\n",
            "Epoch 200/200\n",
            "27/27 [==============================] - 0s 11ms/step - loss: 38065136.0000 - mse: 38065136.0000 - mae: 4043.9614 - val_loss: 40871732.0000 - val_mse: 40871732.0000 - val_mae: 4017.3201\n"
          ]
        }
      ]
    },
    {
      "cell_type": "markdown",
      "source": [
        "Here we see the MSE and the MAE results.\n",
        "\n",
        "Both evolve in a similar way. When one increases, the other increases. When one decreases, the other decreases.\n",
        "\n",
        "So we have the **same information** on these two metrics.\n",
        "\n",
        "BUT, I prefer to look at the **MAE score.** The latter being much closer to our **insurance charges values.**\n",
        "\n",
        "Let me explain.\n",
        "\n",
        "Looking at the MSE on the last line, we see 28,009,306. **This score makes no sense to us.** None of our variables seem to be related to a score that high. On the other hand it makes sense for the Deep Learning model which uses it to optimize itself!\n",
        "\n",
        "However, looking at the MAE on the last line, we see 3.299,4. **This score makes a lot more sense!** It seems to be related to our insurance expense data.\n",
        "\n",
        "We have to interpret the MAE as follows: if the score is 3.299,4 it means that when we predict the insurance charges of an individual, the average error is 3.299,4.\n",
        "\n",
        "For example, Mr. Paul, 33 years old, is predicted to have insurance charges of $13,299.4 when the actual value is $10,000.\n",
        "\n",
        "**This score predicted is relatively close to the actual value.**\n",
        "\n",
        "The goal is to minimize this distance.\n",
        "\n",
        "**What to remember:** MSE is used by the algorithm to optimize itself, MAE is used by the Data Scientist/Engineer/etc to measure the model performance.\n",
        "\n",
        "Let’s go further into the analysis of the result!\n",
        "\n"
      ],
      "metadata": {
        "id": "jjSobMulPLIq"
      }
    },
    {
      "cell_type": "markdown",
      "source": [
        "## **Understanding the results with KPIs**"
      ],
      "metadata": {
        "id": "j5IPp400Pg_I"
      }
    },
    {
      "cell_type": "markdown",
      "source": [
        "Let’s start by displaying the evolution of the MAE during the training:"
      ],
      "metadata": {
        "id": "S69_S7DKPi2M"
      }
    },
    {
      "cell_type": "code",
      "source": [
        "import matplotlib.pyplot as plt\n",
        "\n",
        "#plot the loss and validation loss of the dataset\n",
        "plt.plot(history.history['mae'], label='mae')\n",
        "plt.plot(history.history['val_mae'], label='val_mae')\n",
        "\n",
        "plt.legend()"
      ],
      "metadata": {
        "colab": {
          "base_uri": "https://localhost:8080/",
          "height": 282
        },
        "id": "_ORK8e-MKPgz",
        "outputId": "884d9537-f9f4-4395-f9c4-bd295bb765af"
      },
      "execution_count": null,
      "outputs": [
        {
          "output_type": "execute_result",
          "data": {
            "text/plain": [
              "<matplotlib.legend.Legend at 0x7f2f4d30abe0>"
            ]
          },
          "metadata": {},
          "execution_count": 17
        },
        {
          "output_type": "display_data",
          "data": {
            "text/plain": [
              "<Figure size 432x288 with 1 Axes>"
            ],
            "image/png": "[encoded data removed]"
          },
          "metadata": {
            "needs_background": "light"
          }
        }
      ]
    },
    {
      "cell_type": "markdown",
      "source": [
        "The evolution is good, there is no unusual event, the decrease is regular and the validation values follows the training values.\n",
        "\n",
        "*Once again, if you don’t understand the analysis of this curve, I invite you to see this article on [the basics of Deep Learning with Keras.](https://inside-machinelearning.com/en/first-projec-keras/)*\n",
        "\n",
        "Now we want to analyze our model on data that it has never seen before: the test data…"
      ],
      "metadata": {
        "id": "bn2THOwEPksL"
      }
    },
    {
      "cell_type": "code",
      "source": [
        "scores = model.evaluate(X_test, Y_test, verbose = 0)\n",
        "\n",
        "print('Mean Squared Error : ', scores[1])\n",
        "print('Mean Absolute Error : ', scores[2])"
      ],
      "metadata": {
        "colab": {
          "base_uri": "https://localhost:8080/"
        },
        "id": "WIcbBw_nMFhx",
        "outputId": "02e55dbc-1fc7-4d14-e108-c3be3f55f9bc"
      },
      "execution_count": null,
      "outputs": [
        {
          "output_type": "stream",
          "name": "stdout",
          "text": [
            "Mean Squared Error :  26380084.0\n",
            "Mean Absolute Error :  3479.411376953125\n"
          ]
        }
      ]
    },
    {
      "cell_type": "markdown",
      "source": [
        "Here once again, I am only interested in the MAE.\n",
        "\n",
        "The result seems good ! There is only a slight difference between the result on the training data (3.299,4) and the test data (4.095,5)."
      ],
      "metadata": {
        "id": "r6bDJnC8P5Cd"
      }
    },
    {
      "cell_type": "markdown",
      "source": [
        "### **R2 score**"
      ],
      "metadata": {
        "id": "_q2bRtylP6Pn"
      }
    },
    {
      "cell_type": "markdown",
      "source": [
        "We’ll use a last measure to really get an idea of the result of the model.\n",
        "\n",
        "First we retrieve **all the predictions** on the test data:"
      ],
      "metadata": {
        "id": "IvdRB-fHP6SH"
      }
    },
    {
      "cell_type": "code",
      "source": [
        "Y_pred = model.predict(X_test)"
      ],
      "metadata": {
        "colab": {
          "base_uri": "https://localhost:8080/"
        },
        "id": "qaeyiiLdM3uZ",
        "outputId": "e8f915e6-3bab-4410-fcc9-dc1c97bacd13"
      },
      "execution_count": null,
      "outputs": [
        {
          "output_type": "stream",
          "name": "stdout",
          "text": [
            "9/9 [==============================] - 0s 3ms/step\n"
          ]
        }
      ]
    },
    {
      "cell_type": "markdown",
      "source": [
        "Then we **compare them to the real data.**\n",
        "\n",
        "For this we use the **R2 score.**\n",
        "\n",
        "The R2 Score gives us an **accuracy rate.**\n",
        "\n",
        "**The advantage** compared to the MAE is that it gives us a much **clearer objective.**\n",
        "\n",
        "With the MAE the objective is to get **closer to 0.** But in our case an error of 100, 500, 1,000, even 3,000$ is **acceptable.**\n",
        "\n",
        "For example, if we predict Mrs. Lapie’s insurance charges to be $46,000 when they are actually $45,000, the error is minimal.\n",
        "\n",
        "This is because: **the higher the insurance charges, the less impact the error has.**\n",
        "\n",
        "If, on the other hand, the objective is to predict **the price of a $3 pen** and the error is $1,000… there is a big problem.\n",
        "\n",
        "In fact, the MAE must be considered **according to the value scale of Y.**\n",
        "\n",
        "The MAE must tend to zero. **But if the goal is high, the MAE can be considered good even when it is high.**\n",
        "\n",
        "With the MAE, one must have in mind the scale of values of Y.\n",
        "\n",
        "**But with the R2 score, there is no need of it!**\n",
        "\n",
        "**The R2 score, gives results that naturally conform to the Y value scale.**\n",
        "\n",
        "It gives us a precision rate.\n",
        "\n",
        "We calculated it with the SKLearn library:"
      ],
      "metadata": {
        "id": "ROCixN6OQE9C"
      }
    },
    {
      "cell_type": "code",
      "source": [
        "from sklearn.metrics import r2_score\n",
        "\n",
        "print('r2 score: ', r2_score(Y_test, Y_pred))"
      ],
      "metadata": {
        "colab": {
          "base_uri": "https://localhost:8080/"
        },
        "id": "rrZJG14hMFlF",
        "outputId": "3f0a76af-b2d6-40f3-b40a-49aa279a7131"
      },
      "execution_count": null,
      "outputs": [
        {
          "output_type": "stream",
          "name": "stdout",
          "text": [
            "r2 score:  0.8129731591768139\n"
          ]
        }
      ]
    },
    {
      "cell_type": "markdown",
      "source": [
        "Our precision is 81%, it’s an acceptable precision but it can be improved !\n",
        "\n",
        "Here, we can decide that : getting a result close to 85% / 90% is a good score."
      ],
      "metadata": {
        "id": "7iJ2i0G1QaLo"
      }
    },
    {
      "cell_type": "markdown",
      "source": [
        "## **Understanding the results visually**"
      ],
      "metadata": {
        "id": "4K1ETWEpQdfB"
      }
    },
    {
      "cell_type": "markdown",
      "source": [
        "Let’s finish with the interpretation of the results without metrics, **only visually.**\n",
        "\n",
        "First we can see the results 1 by 1:"
      ],
      "metadata": {
        "id": "1yNO7dLyQdhw"
      }
    },
    {
      "cell_type": "code",
      "source": [
        "Y_pred[:5]"
      ],
      "metadata": {
        "colab": {
          "base_uri": "https://localhost:8080/"
        },
        "id": "wkmMuk8ZNKA3",
        "outputId": "f0350398-c0a9-40d3-b2d8-861e86eddeab"
      },
      "execution_count": null,
      "outputs": [
        {
          "output_type": "execute_result",
          "data": {
            "text/plain": [
              "array([[ 7139.907],\n",
              "       [12737.577],\n",
              "       [ 9068.941],\n",
              "       [30142.662],\n",
              "       [13432.189]], dtype=float32)"
            ]
          },
          "metadata": {},
          "execution_count": 22
        }
      ]
    },
    {
      "cell_type": "markdown",
      "source": [
        "And compare them to the real values:"
      ],
      "metadata": {
        "id": "GpQSHhJFQcPp"
      }
    },
    {
      "cell_type": "code",
      "source": [
        "Y_test.head()"
      ],
      "metadata": {
        "colab": {
          "base_uri": "https://localhost:8080/"
        },
        "id": "AYxZW8M_NGvo",
        "outputId": "03678a58-7b16-48fb-b48b-c6c01208f0d7"
      },
      "execution_count": null,
      "outputs": [
        {
          "output_type": "execute_result",
          "data": {
            "text/plain": [
              "485      4347.02335\n",
              "1069    10928.84900\n",
              "268      7441.05300\n",
              "1304    21259.37795\n",
              "862     12269.68865\n",
              "Name: charges, dtype: float64"
            ]
          },
          "metadata": {},
          "execution_count": 21
        }
      ]
    },
    {
      "cell_type": "markdown",
      "source": [
        "I let you analyze by yourself these results, you can put your **answer in comments.**\n",
        "\n",
        "Then, the most interesting part because the most visual!\n",
        "\n",
        "Let’s display each of the predicted values according to the real values:"
      ],
      "metadata": {
        "id": "3HVmkrxJQlv0"
      }
    },
    {
      "cell_type": "code",
      "source": [
        "Y_pred = model.predict(X_test).flatten()\n",
        "\n",
        "a = plt.axes(aspect='equal')\n",
        "plt.scatter(Y_test, Y_pred)\n",
        "plt.xlabel('True values')\n",
        "plt.ylabel('Predicted values')\n",
        "plt.xlim([0, 50000])\n",
        "plt.ylim([0, 50000])\n",
        "plt.plot([0, 50000], [0, 50000])\n",
        "plt.plot()"
      ],
      "metadata": {
        "colab": {
          "base_uri": "https://localhost:8080/",
          "height": 317
        },
        "id": "bzwzYD5RKjAr",
        "outputId": "bde00305-a6a1-411b-c91c-d0f6e4398d89"
      },
      "execution_count": null,
      "outputs": [
        {
          "output_type": "stream",
          "name": "stdout",
          "text": [
            "9/9 [==============================] - 0s 3ms/step\n"
          ]
        },
        {
          "output_type": "execute_result",
          "data": {
            "text/plain": [
              "[]"
            ]
          },
          "metadata": {},
          "execution_count": 23
        },
        {
          "output_type": "display_data",
          "data": {
            "text/plain": [
              "<Figure size 432x288 with 1 Axes>"
            ],
            "image/png": "[encoded data removed]"
          },
          "metadata": {
            "needs_background": "light"
          }
        }
      ]
    },
    {
      "cell_type": "markdown",
      "source": [
        "Here we have a central line.\n",
        "\n",
        "**The closer the points are to the line, the better the prediction.**\n",
        "\n",
        "Why?\n",
        "\n",
        "Because a point is on the line when the predicted value is **equal** to the actual value.\n",
        "\n",
        "For example, if the predicted value is 10.000 and the actual value is also 10.000, the point will be exactly on the line.\n",
        "\n",
        "**The more the points are close to the line, the more accurate the model is.**\n",
        "\n",
        "Here we see only few points being very far from the line. **This means that the model has a good accuracy.**"
      ],
      "metadata": {
        "id": "6jKJ5GdWQpRZ"
      }
    },
    {
      "cell_type": "markdown",
      "source": [
        "## **Conclusion**"
      ],
      "metadata": {
        "id": "Td82HFaxQvig"
      }
    },
    {
      "cell_type": "markdown",
      "source": [
        "Remember that to perform a (Multiple) Linear Regression:\n",
        "\n",
        "* Transform your **textual** categorical data into **numbers**\n",
        "* Do not set **an activation function** in the last layer of your model\n",
        "* Use the **Mean Squared Error** (mse) in **loss**\n",
        "* Use the **Mean Absolute Error** (mae) in **metrics**\n",
        "* **R2 score** will allow you to have a clear optimization objective\n",
        "* Displaying the predicted data as a function of the actual data allows you to **visually analyze your results**\n",
        "\n",
        "Now you just have to **optimize your model!**\n",
        "\n",
        "We explain **the right techniques** in the following articles:\n",
        "\n",
        "* [Normalize your data](https://inside-machinelearning.com/en/normalize-your-data/)\n",
        "* [Cross-Validation](https://inside-machinelearning.com/en/cross-validation-tutorial/)\n",
        "* [Changing model hyperparameters](https://inside-machinelearning.com/en/decision-tree-and-hyperparameters/)\n",
        "\n",
        "See you soon on Inside Machine Learning! 🔥"
      ],
      "metadata": {
        "id": "LkGmOKcuQvkf"
      }
    }
  ]
}